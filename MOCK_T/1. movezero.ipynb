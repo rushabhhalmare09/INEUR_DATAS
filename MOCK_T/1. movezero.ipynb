{
 "cells": [
  {
   "cell_type": "code",
   "execution_count": 2,
   "metadata": {},
   "outputs": [
    {
     "name": "stdout",
     "output_type": "stream",
     "text": [
      "nums1 : [0, 1, 0, 3, 12]\n",
      "Output: [1, 3, 12, 0, 0]\n",
      "\n",
      "nums2 : [0]\n",
      "Output: [0]\n"
     ]
    }
   ],
   "source": [
    "def moveZeroes(nums):\n",
    "    \"\"\"\n",
    "    :type nums: List[int]\n",
    "    :rtype: void Do not return anything, modify nums in-place instead.\n",
    "    \"\"\"\n",
    "    # Initialize a pointer to the first zero element\n",
    "    zero_pointer = 0\n",
    "    # Iterate through the list\n",
    "    for i in range(len(nums)):\n",
    "        # If the current element is non-zero\n",
    "        if nums[i] != 0:\n",
    "            # Swap the current element with the first zero element\n",
    "            nums[i], nums[zero_pointer] = nums[zero_pointer], nums[i]\n",
    "            # Increment the zero pointer\n",
    "            zero_pointer += 1\n",
    "\n",
    "# Test case 1\n",
    "nums1 = [0,1,0,3,12]\n",
    "print(f\"nums1 : {nums1}\")\n",
    "moveZeroes(nums1)\n",
    "print(f\"Output: {nums1}\\n\") \n",
    "\n",
    "# Test case 2\n",
    "nums2 = [0]\n",
    "print(f\"nums2 : {nums2}\")\n",
    "moveZeroes(nums2)\n",
    "print(f\"Output: {nums2}\")"
   ]
  }
 ],
 "metadata": {
  "kernelspec": {
   "display_name": "Python 3",
   "language": "python",
   "name": "python3"
  },
  "language_info": {
   "codemirror_mode": {
    "name": "ipython",
    "version": 3
   },
   "file_extension": ".py",
   "mimetype": "text/x-python",
   "name": "python",
   "nbconvert_exporter": "python",
   "pygments_lexer": "ipython3",
   "version": "3.10.2"
  },
  "orig_nbformat": 4
 },
 "nbformat": 4,
 "nbformat_minor": 2
}
