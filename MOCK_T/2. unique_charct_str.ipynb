{
 "cells": [
  {
   "cell_type": "code",
   "execution_count": 3,
   "metadata": {},
   "outputs": [
    {
     "name": "stdout",
     "output_type": "stream",
     "text": [
      "s1 : leetcode\n",
      "Output : 0\n",
      "\n",
      "s2 : loveleetcode\n",
      "Output : 2\n",
      "\n",
      "s3 : aabb\n",
      "Output : -1\n"
     ]
    }
   ],
   "source": [
    "def firstUniqChar(s):\n",
    "    \"\"\"\n",
    "    :type s: str\n",
    "    :rtype: int\n",
    "    \"\"\"\n",
    "    # Create a dictionary to store the frequency of each character\n",
    "    freq = {}\n",
    "    # Iterate through the string\n",
    "    for c in s:\n",
    "        # Increment the frequency of the current character\n",
    "        freq[c] = freq.get(c, 0) + 1\n",
    "    # Iterate through the string again\n",
    "    for i, c in enumerate(s):\n",
    "        # If the current character has a frequency of 1\n",
    "        if freq[c] == 1:\n",
    "            # Return its index\n",
    "            return i\n",
    "    # If no unique character is found, return -1\n",
    "    return -1\n",
    "\n",
    "# Test case 1\n",
    "s1 = \"leetcode\"\n",
    "print(f\"s1 : {s1}\")\n",
    "res1 = firstUniqChar(s1)\n",
    "print(f\"Output : {res1}\\n\") # 0\n",
    "\n",
    "# Test case 2\n",
    "s2 = \"loveleetcode\"\n",
    "print(f\"s2 : {s2}\")\n",
    "res2 = firstUniqChar(s2)\n",
    "print(f\"Output : {res2}\\n\") # 2\n",
    "\n",
    "# Test case 3\n",
    "s3 = \"aabb\"\n",
    "print(f\"s3 : {s3}\")\n",
    "res3 = firstUniqChar(s3)\n",
    "print(f\"Output : {res3}\") # -1\n"
   ]
  }
 ],
 "metadata": {
  "kernelspec": {
   "display_name": "Python 3",
   "language": "python",
   "name": "python3"
  },
  "language_info": {
   "codemirror_mode": {
    "name": "ipython",
    "version": 3
   },
   "file_extension": ".py",
   "mimetype": "text/x-python",
   "name": "python",
   "nbconvert_exporter": "python",
   "pygments_lexer": "ipython3",
   "version": "3.10.2"
  },
  "orig_nbformat": 4
 },
 "nbformat": 4,
 "nbformat_minor": 2
}
