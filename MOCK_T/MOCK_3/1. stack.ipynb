{
 "cells": [
  {
   "attachments": {},
   "cell_type": "markdown",
   "metadata": {},
   "source": [
    "### Question\n",
    "Implement a stack using a list in Python. Include the necessary methods such as push, pop, and isEmpty."
   ]
  },
  {
   "cell_type": "code",
   "execution_count": 4,
   "metadata": {},
   "outputs": [
    {
     "name": "stdout",
     "output_type": "stream",
     "text": [
      "[1, 2]\n",
      "[1]\n",
      "False\n",
      "True\n"
     ]
    }
   ],
   "source": [
    "class Stack:\n",
    "    def __init__(self):\n",
    "        # Initialize an empty list to store the items in the stack\n",
    "        self.items = []\n",
    "\n",
    "    def push(self, item):\n",
    "        # Append the item to the end of the list\n",
    "        self.items.append(item)\n",
    "\n",
    "    def pop(self):\n",
    "        # Remove and return the last item from the list if the stack is not empty\n",
    "        if not self.isEmpty():\n",
    "            return self.items.pop()\n",
    "\n",
    "    def isEmpty(self):\n",
    "        # Check if the stack is empty by checking if the length of the list is equal to 0\n",
    "        return len(self.items) == 0\n",
    "\n",
    "# Test cases\n",
    "myStack = Stack()\n",
    "myStack.push(1)\n",
    "myStack.push(2)\n",
    "print(myStack.items) # [1, 2]\n",
    "myStack.pop()\n",
    "print(myStack.items) # [1]\n",
    "print(myStack.isEmpty()) # False\n",
    "myStack.pop()\n",
    "print(myStack.isEmpty()) # True\n"
   ]
  }
 ],
 "metadata": {
  "kernelspec": {
   "display_name": "Python 3",
   "language": "python",
   "name": "python3"
  },
  "language_info": {
   "codemirror_mode": {
    "name": "ipython",
    "version": 3
   },
   "file_extension": ".py",
   "mimetype": "text/x-python",
   "name": "python",
   "nbconvert_exporter": "python",
   "pygments_lexer": "ipython3",
   "version": "3.10.2"
  },
  "orig_nbformat": 4
 },
 "nbformat": 4,
 "nbformat_minor": 2
}
