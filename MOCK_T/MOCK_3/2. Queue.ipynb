{
 "cells": [
  {
   "attachments": {},
   "cell_type": "markdown",
   "metadata": {},
   "source": [
    "### Question\n",
    "\n",
    "Implement a queue using a list in Python. Include the necessary methods such as enqueue, dequeue, and isEmpty."
   ]
  },
  {
   "cell_type": "code",
   "execution_count": 2,
   "metadata": {},
   "outputs": [
    {
     "name": "stdout",
     "output_type": "stream",
     "text": [
      "[2, 1]\n",
      "[2]\n",
      "False\n",
      "True\n"
     ]
    }
   ],
   "source": [
    "class Queue:\n",
    "    def __init__(self):\n",
    "        # Initialize an empty list to store the items in the queue\n",
    "        self.items = []\n",
    "\n",
    "    def enqueue(self, item):\n",
    "        # Insert the item at the beginning of the list\n",
    "        self.items.insert(0, item)\n",
    "\n",
    "    def dequeue(self):\n",
    "        # Remove and return the last item from the list if the queue is not empty\n",
    "        if not self.isEmpty():\n",
    "            return self.items.pop()\n",
    "\n",
    "    def isEmpty(self):\n",
    "        # Check if the queue is empty by checking if the length of the list is equal to 0\n",
    "        return len(self.items) == 0\n",
    "\n",
    "# Test cases\n",
    "myQueue = Queue()\n",
    "myQueue.enqueue(1)\n",
    "myQueue.enqueue(2)\n",
    "print(myQueue.items) # [2, 1]\n",
    "myQueue.dequeue()\n",
    "print(myQueue.items) # [2]\n",
    "print(myQueue.isEmpty()) # False\n",
    "myQueue.dequeue()\n",
    "print(myQueue.isEmpty()) # True"
   ]
  }
 ],
 "metadata": {
  "kernelspec": {
   "display_name": "Python 3",
   "language": "python",
   "name": "python3"
  },
  "language_info": {
   "codemirror_mode": {
    "name": "ipython",
    "version": 3
   },
   "file_extension": ".py",
   "mimetype": "text/x-python",
   "name": "python",
   "nbconvert_exporter": "python",
   "pygments_lexer": "ipython3",
   "version": "3.10.2"
  },
  "orig_nbformat": 4
 },
 "nbformat": 4,
 "nbformat_minor": 2
}
