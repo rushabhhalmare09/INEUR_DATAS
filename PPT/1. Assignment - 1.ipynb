{
 "cells": [
  {
   "attachments": {},
   "cell_type": "markdown",
   "metadata": {},
   "source": [
    "<H3>Q. 1]</H3>\n",
    "Given an array of integers nums and an integer target, return indices of the two numbers such that they add up to target.\n",
    "You may assume that each input would have exactly one solution, and you may not use the same element twice.\n",
    "You can return the answer in any order.\n",
    "\n",
    "Example: Input: nums = [2,7,11,15], target = 9 Output0 [0,1]\n",
    "\n",
    "Explanation: Because nums[0] + nums[1] == 9, we return [0, 1]"
   ]
  },
  {
   "cell_type": "code",
   "execution_count": 8,
   "metadata": {},
   "outputs": [
    {
     "name": "stdout",
     "output_type": "stream",
     "text": [
      "nums: - [1, 5, 2, 9, 2, 15]\n",
      "Target : - 20\n",
      "Output: - [1, 5]\n"
     ]
    }
   ],
   "source": [
    "def twoSum(arr):\n",
    "    for i in range(len(arr)):\n",
    "        for j in range(i+1, len(arr)):\n",
    "            if arr[i] + arr[j] == target:\n",
    "                res = [i, j]\n",
    "                return res\n",
    "            \n",
    "#print(\"Test Case : - 1: -\")            \n",
    "arry = list(map(int, input().split()))\n",
    "print( \"nums: - \" + str(arry))\n",
    "target = int(input(\"Enter a Number: - \"))\n",
    "print(\"Target : - \" + str(target)) \n",
    "\n",
    "case1 = twoSum(arry)\n",
    "print( \"Output: - \"+ str(case1))\n",
    "\n",
    "\n",
    "# ################\n",
    "# print()\n",
    "\n",
    "# print(\"Test Case : - 2: -\")  \n",
    "            \n",
    "# arry1 = list(map(int, input().split()))\n",
    "# print(arry1)\n",
    "# target1 = int(input(\"Enter a Number: - \"))\n",
    "# print(\"Target : - \" + str(target1)) \n",
    "\n",
    "# case2 = twoSum(arry1)\n",
    "# print(case2)\n",
    "# # #Input Provided - > 2 3 4 8 23"
   ]
  },
  {
   "attachments": {},
   "cell_type": "markdown",
   "metadata": {},
   "source": [
    "<aside>\n",
    "<H3>Q. 2]</H3> \n",
    "\n",
    "Given an integer array nums and an integer val, remove all occurrences of val in nums in-place. The order of the elements may be changed. Then return the number of elements in nums which are not equal to val.\n",
    "\n",
    "Consider the number of elements in nums which are not equal to val be k, to get accepted, you need to do the following things:\n",
    "\n",
    "- Change the array nums such that the first k elements of nums contain the elements which are not equal to val. The remaining elements of nums are not important as well as the size of nums.\n",
    "- Return k.\n",
    "\n",
    "**Example :**\n",
    "Input: nums = [3,2,2,3], val = 3\n",
    "Output: 2, nums = [2,2,_*,_*]\n",
    "\n",
    "**Explanation:** Your function should return k = 2, with the first two elements of nums being 2. It does not matter what you leave beyond the returned k (hence they are underscores)[\n",
    "\n",
    "</aside>\n"
   ]
  },
  {
   "cell_type": "code",
   "execution_count": 17,
   "metadata": {},
   "outputs": [
    {
     "name": "stdout",
     "output_type": "stream",
     "text": [
      "nums: - [3, 2, 2, 3]\n",
      "val 3\n",
      "Output: - 2\n",
      "nums:- [2, 2, 2, 3]\n"
     ]
    }
   ],
   "source": [
    "def removeElement(nums, val):\n",
    "    # Initialize two pointers: one for the current element and another for the next position to overwrite\n",
    "    i = 0\n",
    "    j = 0\n",
    "\n",
    "    # Iterate through the array\n",
    "    while j < len(nums):\n",
    "        # If the current element is not equal to the target value, move it to the next position to overwrite\n",
    "        if nums[j] != val:\n",
    "            nums[i] = nums[j]\n",
    "            i += 1\n",
    "        j += 1\n",
    "\n",
    "    # Return the number of elements not equal to the target value (k)\n",
    "    return i\n",
    "\n",
    "arry = list(map(int, input(\"Enter an array: - \").split()))\n",
    "print( \"nums: - \" + str(arry))\n",
    "\n",
    "val = int(input(\"Enter a number: - \"))\n",
    "print(\"val \" + str(val))\n",
    "\n",
    "result = removeElement(arry, val)\n",
    "print(\"Output: - \" + str(result))\n",
    "print(\"nums:-\", arry)"
   ]
  },
  {
   "attachments": {},
   "cell_type": "markdown",
   "metadata": {},
   "source": [
    "<aside>\n",
    "<H3>Q. 3]</H3>\n",
    "Given a sorted array of distinct integers and a target value, return the index if the target is found. If not, return the index where it would be if it were inserted in order.\n",
    "\n",
    "You must write an algorithm with O(log n) runtime complexity.\n",
    "\n",
    "**Example 1:**\n",
    "Input: nums = [1,3,5,6], target = 5\n",
    "\n",
    "Output: 2\n",
    "\n",
    "</aside>"
   ]
  },
  {
   "cell_type": "code",
   "execution_count": 20,
   "metadata": {},
   "outputs": [
    {
     "name": "stdout",
     "output_type": "stream",
     "text": [
      "Input: nums = [1, 3, 5, 6]\n",
      "target = 5\n",
      "Output: Index:- 2\n"
     ]
    }
   ],
   "source": [
    "def searchInsert(nums, target):\n",
    "    left = 0\n",
    "    right = len(nums) - 1\n",
    "\n",
    "    # Perform binary search\n",
    "    while left <= right:\n",
    "        mid = left + (right - left) // 2\n",
    "\n",
    "        # If the target is found, return its index\n",
    "        if nums[mid] == target:\n",
    "            return mid\n",
    "        # If the target is greater than the current value, search in the right half\n",
    "        elif nums[mid] < target:\n",
    "            left = mid + 1\n",
    "        # If the target is less than the current value, search in the left half\n",
    "        else:\n",
    "            right = mid - 1\n",
    "\n",
    "    # If the target is not found, return the left index where it would be inserted\n",
    "    return left\n",
    "\n",
    "# Take input from user for nums and target variables\n",
    "nums = list(map(int, input(\"Enter a list of sorted integers separated by spaces: \").split()))\n",
    "target = int(input(\"Enter the target value: \"))\n",
    "\n",
    "# Print the input taken from user\n",
    "print(f\"Input: nums = {nums}\") \n",
    "\n",
    "print(f\"target = {target}\")\n",
    "\n",
    "result = searchInsert(nums, target)\n",
    "print(f\"Output: Index:-\",result)\n"
   ]
  },
  {
   "attachments": {},
   "cell_type": "markdown",
   "metadata": {},
   "source": [
    "<aside>\n",
    "<H3>Q. 4] </H3>\n",
    "You are given a large integer represented as an integer array digits, where each digits[i] is the ith digit of the integer. The digits are ordered from most significant to least significant in left-to-right order. The large integer does not contain any leading 0's.\n",
    "\n",
    "Increment the large integer by one and return the resulting array of digits.\n",
    "\n",
    "**Example 1:**\n",
    "Input: digits = [1,2,3]\n",
    "Output: [1,2,4]\n",
    "\n",
    "**Explanation:** The array represents the integer 123.\n",
    "\n",
    "Incrementing by one gives 123 + 1 = 124.\n",
    "Thus, the result should be [1,2,4].\n",
    "\n",
    "</aside>"
   ]
  },
  {
   "cell_type": "code",
   "execution_count": 21,
   "metadata": {},
   "outputs": [
    {
     "name": "stdout",
     "output_type": "stream",
     "text": [
      "Input: digits = [1, 2, 3]\n",
      "Output: Integer:- [1, 2, 4]\n"
     ]
    }
   ],
   "source": [
    "def plusOne(digits):\n",
    "    # Start from the least significant digit\n",
    "    for i in range(len(digits) - 1, -1, -1):\n",
    "        # Increment the digit by one\n",
    "        digits[i] += 1\n",
    "        # Check if there is a carry\n",
    "        if digits[i] < 10:\n",
    "            # No carry, so we can stop\n",
    "            return digits\n",
    "        else:\n",
    "            # Carry, set the current digit to 0 and propagate the carry\n",
    "            digits[i] = 0\n",
    "\n",
    "    # If there is still a carry after processing all digits, add an additional digit at the beginning\n",
    "    if digits[0] == 0:\n",
    "        digits.insert(0, 1)\n",
    "\n",
    "    return digits\n",
    "\n",
    "# Take input from user for digits variable\n",
    "digits = list(map(int, input(\"Enter a list of integers separated by spaces: \").split()))\n",
    "\n",
    "# Print the input taken from user\n",
    "print(f\"Input: digits = {digits}\")\n",
    "\n",
    "result = plusOne(digits)\n",
    "print(f\"Output: -\",result)\n"
   ]
  },
  {
   "attachments": {},
   "cell_type": "markdown",
   "metadata": {},
   "source": [
    "<aside>\n",
    "<H3>Q. 5] </H3>\n",
    "You are given two integer arrays nums1 and nums2, sorted in non-decreasing order, and two integers m and n, representing the number of elements in nums1 and nums2 respectively.\n",
    "\n",
    "Merge nums1 and nums2 into a single array sorted in non-decreasing order.\n",
    "\n",
    "The final sorted array should not be returned by the function, but instead be stored inside the array nums1. To accommodate this, nums1 has a length of m + n, where the first m elements denote the elements that should be merged, and the last n elements are set to 0 and should be ignored. nums2 has a length of n.\n",
    "\n",
    "**Example 1:**\n",
    "Input: nums1 = [1,2,3,0,0,0], m = 3, nums2 = [2,5,6], n = 3\n",
    "Output: [1,2,2,3,5,6]\n",
    "\n",
    "**Explanation:** The arrays we are merging are [1,2,3] and [2,5,6].\n",
    "The result of the merge is [1,2,2,3,5,6] with the underlined elements coming from nums1\n",
    "\n",
    "</aside>"
   ]
  },
  {
   "cell_type": "code",
   "execution_count": 24,
   "metadata": {},
   "outputs": [
    {
     "name": "stdout",
     "output_type": "stream",
     "text": [
      "Input: nums1 = [1, 2, 3, 0, 0, 0]\n",
      "m = 3\n",
      "nums2 = [2, 5, 6]\n",
      "n = 3\n",
      "Output: nums1:- [1, 2, 2, 3, 5, 6]\n"
     ]
    }
   ],
   "source": [
    "def merge(nums1, m, nums2, n):\n",
    "    # Initialize pointers for nums1, nums2, and the end of the merged array\n",
    "    p1 = m - 1\n",
    "    p2 = n - 1\n",
    "    end = m + n - 1\n",
    "\n",
    "    # Merge the arrays from the end\n",
    "    while p1 >= 0 and p2 >= 0:\n",
    "        if nums1[p1] >= nums2[p2]:\n",
    "            nums1[end] = nums1[p1]\n",
    "            p1 -= 1\n",
    "        else:\n",
    "            nums1[end] = nums2[p2]\n",
    "            p2 -= 1\n",
    "        end -= 1\n",
    "\n",
    "    # If there are remaining elements in nums2, copy them to nums1\n",
    "    while p2 >= 0:\n",
    "        nums1[end] = nums2[p2]\n",
    "        p2 -= 1\n",
    "        end -= 1\n",
    "\n",
    "# Take input from user for nums1, m, nums2 and n variables\n",
    "nums1 = list(map(int, input(\"Enter a list of integers separated by spaces for nums1: \").split()))\n",
    "m = int(input(\"Enter the value of m: \"))\n",
    "nums2 = list(map(int, input(\"Enter a list of integers separated by spaces for nums2: \").split()))\n",
    "n = int(input(\"Enter the value of n: \"))\n",
    "\n",
    "# Print the input taken from user\n",
    "print(f\"Input: nums1 = {nums1}\")\n",
    "print(f\"m = {m}\")\n",
    "print(f\"nums2 = {nums2}\")\n",
    "print(f\"n = {n}\")\n",
    "\n",
    "merge(nums1, m, nums2, n)\n",
    "print(f\"Output: nums1:-\",nums1)\n"
   ]
  },
  {
   "attachments": {},
   "cell_type": "markdown",
   "metadata": {},
   "source": [
    "<H3> Q. 6] </H3>\n",
    "\n",
    "<aside>\n",
    "💡 Given an integer array nums, return true if any value appears at least twice in the array, and return false if every element is distinct.\n",
    "\n",
    "**Example 1:**\n",
    "Input: nums = [1,2,3,1]\n",
    "\n",
    "Output: true\n",
    "\n",
    "</aside>"
   ]
  },
  {
   "cell_type": "code",
   "execution_count": 25,
   "metadata": {},
   "outputs": [
    {
     "name": "stdout",
     "output_type": "stream",
     "text": [
      "Input: nums = [1, 2, 3, 1]\n",
      "Output:- True\n"
     ]
    }
   ],
   "source": [
    "def containsDuplicate(nums):\n",
    "    seen = set()\n",
    "    for num in nums:\n",
    "        if num in seen:\n",
    "            return True\n",
    "        seen.add(num)\n",
    "    return False\n",
    "\n",
    "# Take input from user for nums variable\n",
    "nums = list(map(int, input(\"Enter a list of integers separated by spaces: \").split()))\n",
    "\n",
    "# Print the input taken from user\n",
    "print(f\"Input: nums = {nums}\")\n",
    "\n",
    "result = containsDuplicate(nums)\n",
    "print(f\"Output:-\",result)\n"
   ]
  },
  {
   "attachments": {},
   "cell_type": "markdown",
   "metadata": {},
   "source": [
    "<aside>\n",
    "\n",
    "<H3> Q. 7]</H3>\n",
    "Given an integer array nums, move all 0's to the end of it while maintaining the relative order of the nonzero elements.\n",
    "\n",
    "Note that you must do this in-place without making a copy of the array.\n",
    "\n",
    "**Example 1:**\n",
    "Input: nums = [0,1,0,3,12]\n",
    "Output: [1,3,12,0,0]\n",
    "\n",
    "</aside>"
   ]
  },
  {
   "cell_type": "code",
   "execution_count": 26,
   "metadata": {},
   "outputs": [
    {
     "name": "stdout",
     "output_type": "stream",
     "text": [
      "Input: nums = [0, 1, 0, 13, 9, 0, 2, 4, 0, 0, 5]\n",
      "Output: nums:- [1, 13, 9, 2, 4, 5, 0, 0, 0, 0, 0]\n"
     ]
    }
   ],
   "source": [
    "def moveZeroes(nums):\n",
    "    # Initialize the pointer to place non-zero elements\n",
    "    i = 0\n",
    "\n",
    "    # Iterate through the array\n",
    "    for j in range(len(nums)):\n",
    "        # If the current element is non-zero, move it to the next position to place non-zero elements\n",
    "        if nums[j] != 0:\n",
    "            nums[i] = nums[j]\n",
    "            i += 1\n",
    "\n",
    "    # Fill the remaining positions with zeros\n",
    "    while i < len(nums):\n",
    "        nums[i] = 0\n",
    "        i += 1\n",
    "\n",
    "# Take input from user for nums variable\n",
    "nums = list(map(int, input(\"Enter a list of integers separated by spaces: \").split()))\n",
    "\n",
    "# Print the input taken from user\n",
    "print(f\"Input: nums = {nums}\")\n",
    "\n",
    "moveZeroes(nums)\n",
    "print(f\"Output: nums:-\",nums)\n"
   ]
  },
  {
   "attachments": {},
   "cell_type": "markdown",
   "metadata": {},
   "source": [
    "### Q. 8]\n",
    "<aside>\n",
    "You have a set of integers s, which originally contains all the numbers from 1 to n. Unfortunately, due to some error, one of the numbers in s got duplicated to another number in the set, which results in repetition of one number and loss of another number.\n",
    "\n",
    "You are given an integer array nums representing the data status of this set after the error.\n",
    "\n",
    "Find the number that occurs twice and the number that is missing and return them in the form of an array.\n",
    "\n",
    "**Example 1:**\n",
    "Input: nums = [1,2,2,4]\n",
    "Output: [2,3]\n",
    "\n",
    "</aside>"
   ]
  },
  {
   "cell_type": "code",
   "execution_count": 34,
   "metadata": {},
   "outputs": [
    {
     "name": "stdout",
     "output_type": "stream",
     "text": [
      "Input: nums = [1, 3, 3, 4]\n",
      "Output: - [3, 2]\n"
     ]
    }
   ],
   "source": [
    "def findErrorNums(nums):\n",
    "    n = len(nums)\n",
    "    # Calculate the sum of the original set (1 to n)\n",
    "    expected_sum = (n * (n + 1)) // 2\n",
    "\n",
    "    # Calculate the sum of the given array\n",
    "    actual_sum = sum(nums)\n",
    "\n",
    "    # Calculate the sum of squares of the original set (1^2 to n^2)\n",
    "    expected_sum_squares = (n * (n + 1) * (2 * n + 1)) // 6\n",
    "\n",
    "    # Calculate the sum of squares of the given array\n",
    "    actual_sum_squares = sum(num * num for num in nums)\n",
    "\n",
    "    # Calculate the difference between the expected sum and the actual sum\n",
    "    diff = expected_sum - actual_sum\n",
    "\n",
    "    # Calculate the difference between the expected sum of squares and the actual sum of squares\n",
    "    diff_squares = expected_sum_squares - actual_sum_squares\n",
    "\n",
    "    # Calculate the missing number using the difference and difference of squares\n",
    "    missing_num = (diff_squares // diff + diff) // 2\n",
    "\n",
    "    # Calculate the duplicated number using the missing number and difference\n",
    "    duplicated_num = missing_num - diff\n",
    "\n",
    "    return [duplicated_num, missing_num]\n",
    "\n",
    "# Take input from user for nums variable\n",
    "nums = list(map(int, input(\"Enter a list of integers separated by spaces: \").split()))\n",
    "\n",
    "# Print the input taken from user\n",
    "print(f\"Input: nums = {nums}\")\n",
    "\n",
    "result = findErrorNums(nums)\n",
    "print(f\"Output: -\",result)\n"
   ]
  }
 ],
 "metadata": {
  "kernelspec": {
   "display_name": "Python 3",
   "language": "python",
   "name": "python3"
  },
  "language_info": {
   "codemirror_mode": {
    "name": "ipython",
    "version": 3
   },
   "file_extension": ".py",
   "mimetype": "text/x-python",
   "name": "python",
   "nbconvert_exporter": "python",
   "pygments_lexer": "ipython3",
   "version": "3.10.2"
  },
  "orig_nbformat": 4
 },
 "nbformat": 4,
 "nbformat_minor": 2
}
