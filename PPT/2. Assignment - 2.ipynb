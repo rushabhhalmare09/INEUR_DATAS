{
 "cells": [
  {
   "attachments": {},
   "cell_type": "markdown",
   "metadata": {},
   "source": [
    "<H3> Question 1 </H3>\n",
    "<aside>\n",
    "\n",
    "Given an integer array nums of 2n integers, group these integers into n pairs (a1, b1), (a2, b2),..., (an, bn) such that the sum of min(ai, bi) for all i is maximized. Return the maximized sum.\n",
    "\n",
    "**Example 1:**\n",
    "Input: nums = [1,4,3,2]\n",
    "Output: 4\n",
    "\n",
    "**Explanation:** All possible pairings (ignoring the ordering of elements) are:\n",
    "\n",
    "1. (1, 4), (2, 3) -> min(1, 4) + min(2, 3) = 1 + 2 = 3\n",
    "2. (1, 3), (2, 4) -> min(1, 3) + min(2, 4) = 1 + 2 = 3\n",
    "3. (1, 2), (3, 4) -> min(1, 2) + min(3, 4) = 1 + 3 = 4\n",
    "So the maximum possible sum is 4\n",
    "</aside>"
   ]
  },
  {
   "cell_type": "code",
   "execution_count": 3,
   "metadata": {},
   "outputs": [
    {
     "name": "stdout",
     "output_type": "stream",
     "text": [
      "Input: nums : [1, 4, 3, 2]\n",
      "4\n"
     ]
    }
   ],
   "source": [
    "class Solution:\n",
    "    def arrayPairSum(self, nums):\n",
    "        # sort the array in ascending order\n",
    "        nums.sort()\n",
    "        # initialize the result variable\n",
    "        result = 0\n",
    "        # iterate over the array with a step of 2\n",
    "        for i in range(0, len(nums), 2):\n",
    "            # add the minimum value of each pair to the result\n",
    "            result += min(nums[i], nums[i+1])\n",
    "        return result\n",
    "\n",
    "solution = Solution()\n",
    "# take input from user\n",
    "nums = list(map(int, input(\"Enter space separated integers: \").split()))\n",
    "print(f\"Input: nums : {nums}\")\n",
    "\n",
    "result = solution.arrayPairSum(nums)\n",
    "print(result)\n"
   ]
  },
  {
   "attachments": {},
   "cell_type": "markdown",
   "metadata": {},
   "source": [
    "### Question 2\n",
    "Alice has n candies, where the ith candy is of type candyType[i]. Alice noticed that she started to gain weight, so she visited a doctor. \n",
    "\n",
    "The doctor advised Alice to only eat n / 2 of the candies she has (n is always even). Alice likes her candies very much, and she wants to eat the maximum number of different types of candies while still following the doctor's advice. \n",
    "\n",
    "Given the integer array candyType of length n, return the maximum number of different types of candies she can eat if she only eats n / 2 of them.\n",
    "\n",
    "Example 1:\n",
    "Input: candyType = [1,1,2,2,3,3]\n",
    "Output: 3\n",
    "\n",
    "Explanation: Alice can only eat 6 / 2 = 3 candies. Since there are only 3 types, she can eat one of each type."
   ]
  },
  {
   "cell_type": "code",
   "execution_count": 5,
   "metadata": {},
   "outputs": [
    {
     "name": "stdout",
     "output_type": "stream",
     "text": [
      "Input:  [1, 1, 2, 2, 3, 3]\n",
      "Output:  3\n"
     ]
    }
   ],
   "source": [
    "class Solution:\n",
    "    def distributeCandies(self, candyType):\n",
    "        # calculate the maximum number of candies Alice can eat\n",
    "        max_candies = len(candyType) // 2\n",
    "        # calculate the number of unique candy types\n",
    "        unique_candies = len(set(candyType))\n",
    "        # return the minimum of max_candies and unique_candies\n",
    "        return min(max_candies, unique_candies)\n",
    "\n",
    "solution = Solution()\n",
    "# take input from user\n",
    "candyType = list(map(int, input(\"Enter space separated integers: \").split()))\n",
    "result = solution.distributeCandies(candyType)\n",
    "print(\"Input: \", candyType)\n",
    "print(\"Output: \" , result)\n"
   ]
  },
  {
   "attachments": {},
   "cell_type": "markdown",
   "metadata": {},
   "source": [
    "### Question 3\n",
    "We define a harmonious array as an array where the difference between its maximum value\n",
    "and its minimum value is exactly 1.\n",
    "\n",
    "Given an integer array nums, return the length of its longest harmonious subsequence\n",
    "among all its possible subsequences.\n",
    "\n",
    "A subsequence of an array is a sequence that can be derived from the array by deleting some or no elements without changing the order of the remaining elements.\n",
    "\n",
    "Example 1:\n",
    "Input: nums = [1,3,2,2,5,2,3,7]\n",
    "Output: 5\n",
    "\n",
    "Explanation: The longest harmonious subsequence is [3,2,2,2,3]."
   ]
  },
  {
   "cell_type": "code",
   "execution_count": 6,
   "metadata": {},
   "outputs": [
    {
     "name": "stdout",
     "output_type": "stream",
     "text": [
      "Input:  [1, 3, 2, 2, 5, 2, 3, 7]\n",
      "Output:  5\n"
     ]
    }
   ],
   "source": [
    "class Solution:\n",
    "    def findLHS(self, nums):\n",
    "        # create a dictionary to store the count of each element in nums\n",
    "        count = {}\n",
    "        for x in nums:\n",
    "            count[x] = count.get(x, 0) + 1\n",
    "        # initialize the result variable\n",
    "        ans = 0\n",
    "        # iterate over the keys in the count dictionary\n",
    "        for x in count:\n",
    "            # check if x+1 is also present in the dictionary\n",
    "            if x+1 in count:\n",
    "                # update the result variable with the maximum value\n",
    "                ans = max(ans, count[x] + count[x+1])\n",
    "        return ans\n",
    "\n",
    "solution = Solution()\n",
    "# take input from user\n",
    "nums = list(map(int, input(\"Enter space separated integers: \").split()))\n",
    "print(\"Input: \", nums)\n",
    "\n",
    "result = solution.findLHS(nums)\n",
    "print(\"Output: \", result)\n"
   ]
  },
  {
   "attachments": {},
   "cell_type": "markdown",
   "metadata": {},
   "source": [
    "### Question 4\n",
    "You have a long flowerbed in which some of the plots are planted, and some are not.\n",
    "However, flowers cannot be planted in adjacent plots.\n",
    "Given an integer array flowerbed containing 0's and 1's, where 0 means empty and 1 means not empty, and an integer n, return true if n new flowers can be planted in the flowerbed without violating the no-adjacent-flowers rule and false otherwise.\n",
    "\n",
    "Example 1:\n",
    "Input: flowerbed = [1,0,0,0,1], n = 1\n",
    "Output: true"
   ]
  },
  {
   "cell_type": "code",
   "execution_count": 7,
   "metadata": {},
   "outputs": [
    {
     "name": "stdout",
     "output_type": "stream",
     "text": [
      "Input:  [1, 0, 0, 0, 1]\n",
      "n :  1\n",
      "True\n"
     ]
    }
   ],
   "source": [
    "class Solution:\n",
    "    def canPlaceFlowers(self, flowerbed, n):\n",
    "        # initialize the zeros and ans variables\n",
    "        zeros, ans = 1, 0\n",
    "        # iterate over the flowerbed array\n",
    "        for f in flowerbed:\n",
    "            if f == 0:\n",
    "                # increment the zeros variable\n",
    "                zeros += 1\n",
    "            else:\n",
    "                # update the ans variable\n",
    "                ans += (zeros - 1) // 2\n",
    "                # reset the zeros variable\n",
    "                zeros = 0\n",
    "        # update the ans variable with the remaining zeros\n",
    "        ans += zeros // 2\n",
    "        # check if ans is greater than or equal to n\n",
    "        return ans >= n\n",
    "\n",
    "solution = Solution()\n",
    "# take input from user\n",
    "flowerbed = list(map(int, input(\"Enter space separated integers for flowerbed: \").split()))\n",
    "print(\"Input: \", flowerbed)\n",
    "\n",
    "n = int(input(\"Enter value of n: \"))\n",
    "print( \"n : \", n)  \n",
    "\n",
    "result = solution.canPlaceFlowers(flowerbed, n)\n",
    "print(result)"
   ]
  },
  {
   "attachments": {},
   "cell_type": "markdown",
   "metadata": {},
   "source": [
    "### Question 5\n",
    "Given an integer array nums, find three numbers whose product is maximum and return the maximum product.\n",
    "\n",
    "Example 1:\n",
    "Input: nums = [1,2,3]\n",
    "Output: 6"
   ]
  },
  {
   "cell_type": "code",
   "execution_count": 8,
   "metadata": {},
   "outputs": [
    {
     "name": "stdout",
     "output_type": "stream",
     "text": [
      "Input:  [1, 2, 3]\n",
      "Output:  6\n"
     ]
    }
   ],
   "source": [
    "import heapq\n",
    "\n",
    "class Solution:\n",
    "    def maximumProduct(self, nums):\n",
    "        # find the three largest and two smallest numbers in nums\n",
    "        a, b = heapq.nlargest(3, nums), heapq.nsmallest(2, nums)\n",
    "        # return the maximum product of either the three largest numbers or the two smallest numbers and the largest number\n",
    "        return max(a[0] * a[1] * a[2], b[0] * b[1] * a[0])\n",
    "\n",
    "solution = Solution()\n",
    "# take input from user\n",
    "nums = list(map(int, input(\"Enter space separated integers: \").split()))\n",
    "print(\"Input: \", nums)\n",
    "\n",
    "result = solution.maximumProduct(nums)\n",
    "print(\"Output: \",result)\n"
   ]
  },
  {
   "attachments": {},
   "cell_type": "markdown",
   "metadata": {},
   "source": [
    "### Question 6\n",
    "Given an array of integers nums which is sorted in ascending order, and an integer target,\n",
    "write a function to search target in nums. If target exists, then return its index. Otherwise,\n",
    "return -1.\n",
    "\n",
    "You must write an algorithm with O(log n) runtime complexity.\n",
    "\n",
    "Input: nums = [-1,0,3,5,9,12], target = 9\n",
    "Output: 4\n",
    "\n",
    "Explanation: 9 exists in nums and its index is 4"
   ]
  },
  {
   "cell_type": "code",
   "execution_count": 9,
   "metadata": {},
   "outputs": [
    {
     "name": "stdout",
     "output_type": "stream",
     "text": [
      "Input:  [-1, 0, 3, 5, 9, 12]\n",
      "Target :  9\n",
      "4\n"
     ]
    }
   ],
   "source": [
    "class Solution:\n",
    "    def search(self, nums, target):\n",
    "        # initialize the idx and step variables\n",
    "        idx = 0\n",
    "        step = len(nums)\n",
    "        # iterate until step is greater than or equal to 1\n",
    "        while step >= 1:\n",
    "            # update the idx variable\n",
    "            while step + idx < len(nums) and nums[step + idx] <= target:\n",
    "                idx += step\n",
    "            # update the step variable\n",
    "            step //= 2\n",
    "        # return the index if target is found, else return -1\n",
    "        return idx if nums[idx] == target else -1\n",
    "\n",
    "solution = Solution()\n",
    "# take input from user\n",
    "nums = list(map(int, input(\"Enter space separated integers for nums: \").split()))\n",
    "print(\"Input: \", nums)\n",
    "\n",
    "target = int(input(\"Enter value of target: \"))\n",
    "print(\"Target : \", target)\n",
    "\n",
    "result = solution.search(nums, target)\n",
    "print(result)"
   ]
  },
  {
   "attachments": {},
   "cell_type": "markdown",
   "metadata": {},
   "source": [
    "### Question 7\n",
    "An array is monotonic if it is either monotone increasing or monotone decreasing.\n",
    "\n",
    "An array nums is monotone increasing if for all i <= j, nums[i] <= nums[j]. An array nums is\n",
    "monotone decreasing if for all i <= j, nums[i] >= nums[j].\n",
    "\n",
    "Given an integer array nums, return true if the given array is monotonic, or false otherwise.\n",
    "\n",
    "Example 1:\n",
    "Input: nums = [1,2,2,3]\n",
    "Output: true"
   ]
  },
  {
   "cell_type": "code",
   "execution_count": 10,
   "metadata": {},
   "outputs": [
    {
     "name": "stdout",
     "output_type": "stream",
     "text": [
      "Input:  [1, 2, 2, 3]\n",
      "True\n"
     ]
    }
   ],
   "source": [
    "class Solution:\n",
    "    def isMonotonic(self, nums):\n",
    "        # check if the array is non-decreasing\n",
    "        is_non_decreasing = all(nums[i] <= nums[i + 1] for i in range(len(nums) - 1))\n",
    "        # check if the array is non-increasing\n",
    "        is_non_increasing = all(nums[i] >= nums[i + 1] for i in range(len(nums) - 1))\n",
    "        # check if the array is monotonic\n",
    "        is_monotonic = is_non_decreasing or is_non_increasing\n",
    "        return is_monotonic\n",
    "\n",
    "solution = Solution()\n",
    "# take input from user\n",
    "nums = list(map(int, input(\"Enter space separated integers: \").split()))\n",
    "print(\"Input: \", nums)\n",
    "\n",
    "result = solution.isMonotonic(nums)\n",
    "print(result)"
   ]
  },
  {
   "attachments": {},
   "cell_type": "markdown",
   "metadata": {},
   "source": [
    "### Question 8\n",
    "You are given an integer array nums and an integer k.\n",
    "\n",
    "In one operation, you can choose any index i where 0 <= i < nums.length and change nums[i] to nums[i] + x where x is an integer from the range [-k, k]. You can apply this operation at most once for each index i.\n",
    "\n",
    "The score of nums is the difference between the maximum and minimum elements in nums.\n",
    "\n",
    "Return the minimum score of nums after applying the mentioned operation at most once for each index in it.\n",
    "\n",
    "Example 1:\n",
    "Input: nums = [1], k = 0\n",
    "Output: 0\n",
    "\n",
    "Explanation: The score is max(nums) - min(nums) = 1 - 1 = 0."
   ]
  },
  {
   "cell_type": "code",
   "execution_count": 11,
   "metadata": {},
   "outputs": [
    {
     "name": "stdout",
     "output_type": "stream",
     "text": [
      "Input:  [1]\n",
      "k:  0\n",
      "Output:  0\n"
     ]
    }
   ],
   "source": [
    "class Solution:\n",
    "    def smallestRangeI(self, nums, k):\n",
    "        # calculate the minimum score of nums\n",
    "        return max(0, max(nums) - min(nums) - 2 * k)\n",
    "\n",
    "solution = Solution()\n",
    "# take input from user\n",
    "nums = list(map(int, input(\"Enter space separated integers for nums: \").split()))\n",
    "print(\"Input: \", nums)\n",
    "\n",
    "k = int(input(\"Enter value of k: \"))\n",
    "print(\"k: \", k)\n",
    "\n",
    "result = solution.smallestRangeI(nums, k)\n",
    "print(\"Output: \", result)"
   ]
  }
 ],
 "metadata": {
  "kernelspec": {
   "display_name": "Python 3",
   "language": "python",
   "name": "python3"
  },
  "language_info": {
   "codemirror_mode": {
    "name": "ipython",
    "version": 3
   },
   "file_extension": ".py",
   "mimetype": "text/x-python",
   "name": "python",
   "nbconvert_exporter": "python",
   "pygments_lexer": "ipython3",
   "version": "3.10.2"
  },
  "orig_nbformat": 4
 },
 "nbformat": 4,
 "nbformat_minor": 2
}
