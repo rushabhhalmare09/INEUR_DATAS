{
 "cells": [
  {
   "attachments": {},
   "cell_type": "markdown",
   "metadata": {},
   "source": [
    "### Question 1\n",
    "\n",
    "Given an integer array nums of length n and an integer target, find three integers\n",
    "in nums such that the sum is closest to the target.\n",
    "Return the sum of the three integers.\n",
    "\n",
    "You may assume that each input would have exactly one solution.\n",
    "\n",
    "Example 1:\n",
    "Input: nums = [-1,2,1,-4], target = 1\n",
    "Output: 2\n",
    "\n",
    "Explanation: The sum that is closest to the target is 2. (-1 + 2 + 1 = 2)."
   ]
  },
  {
   "cell_type": "code",
   "execution_count": 2,
   "metadata": {},
   "outputs": [
    {
     "name": "stdout",
     "output_type": "stream",
     "text": [
      "Input: nums = [-1, 2, 1, -4]\n",
      "target = 1\n",
      "Output: 2\n"
     ]
    }
   ],
   "source": [
    "from typing import List\n",
    "\n",
    "class Solution:\n",
    "    def threeSumClosest(self, nums: List[int], target: int) -> int:\n",
    "        # Sort the input array\n",
    "        nums.sort()\n",
    "        # Initialize the result to the sum of the first three elements\n",
    "        result = nums[0] + nums[1] + nums[2]\n",
    "        # Iterate over the array\n",
    "        for i in range(len(nums) - 2):\n",
    "            # Skip duplicates\n",
    "            if i > 0 and nums[i] == nums[i-1]:\n",
    "                continue\n",
    "            # Use two pointers to find the pair of elements whose sum is closest to target - nums[i]\n",
    "            j, k = i+1, len(nums) - 1\n",
    "            while j < k:\n",
    "                sum = nums[i] + nums[j] + nums[k]\n",
    "                # If the current sum is equal to target, return it immediately\n",
    "                if sum == target:\n",
    "                    return sum\n",
    "                # Update result if current sum is closer to target than previous result\n",
    "                if abs(sum - target) < abs(result - target):\n",
    "                    result = sum\n",
    "                # Move pointers based on comparison between current sum and target\n",
    "                if sum < target:\n",
    "                    j += 1\n",
    "                else:\n",
    "                    k -= 1\n",
    "        return result\n",
    "\n",
    "solution = Solution()\n",
    "nums = list(map(int,input(\"Enter space separated integers for nums: \").split()))\n",
    "print(f\"Input: nums = {nums}\")\n",
    "\n",
    "target = int(input(\"Enter an integer for target: \"))\n",
    "print(f\"target = {target}\")\n",
    "\n",
    "result = solution.threeSumClosest(nums,target)\n",
    "print(f\"Output: {result}\")\n",
    "\n"
   ]
  },
  {
   "attachments": {},
   "cell_type": "markdown",
   "metadata": {},
   "source": [
    "### Question 2\n",
    "\n",
    "Given an array nums of n integers, return an array of all the unique quadruplets\n",
    "[nums[a], nums[b], nums[c], nums[d]] such that:\n",
    "          \n",
    "           ● 0 <= a, b, c, d < n\n",
    "           ● a, b, c, and d are distinct.\n",
    "           ● nums[a] + nums[b] + nums[c] + nums[d] == target\n",
    "\n",
    "You may return the answer in any order.\n",
    "\n",
    "Example 1:\n",
    "Input: nums = [1,0,-1,0,-2,2], target = 0\n",
    "Output: [[-2,-1,1,2],[-2,0,0,2],[-1,0,0,1]]"
   ]
  },
  {
   "cell_type": "code",
   "execution_count": 1,
   "metadata": {},
   "outputs": [
    {
     "name": "stdout",
     "output_type": "stream",
     "text": [
      "Input: nums = [1, 0, -1, 0, -2, 2]\n",
      "target = 0\n",
      "Output: [[-2, -1, 1, 2], [-2, 0, 0, 2], [-1, 0, 0, 1]]\n"
     ]
    }
   ],
   "source": [
    "from typing import List\n",
    "\n",
    "class Solution:\n",
    "    def fourSum(self, nums: List[int], target: int) -> List[List[int]]:\n",
    "        def findNsum(l, r, target, N, result, results):\n",
    "            # Check if the current search range is valid\n",
    "            if r-l+1 < N or N < 2 or target < nums[l]*N or target > nums[r]*N:\n",
    "                return\n",
    "            # If N is equal to 2, use a two-pointer approach\n",
    "            if N == 2:\n",
    "                while l < r:\n",
    "                    s = nums[l] + nums[r]\n",
    "                    if s == target:\n",
    "                        results.append(result + [nums[l], nums[r]])\n",
    "                        l += 1\n",
    "                        # Skip duplicates\n",
    "                        while l < r and nums[l] == nums[l-1]:\n",
    "                            l += 1\n",
    "                    elif s < target:\n",
    "                        l += 1\n",
    "                    else:\n",
    "                        r -= 1\n",
    "            # Otherwise, recursively call findNsum with a decremented N and an updated target value\n",
    "            else:\n",
    "                for i in range(l, r+1):\n",
    "                    # Skip duplicates\n",
    "                    if i == l or (i > l and nums[i-1] != nums[i]):\n",
    "                        findNsum(i+1, r, target-nums[i], N-1, result+[nums[i]], results)\n",
    "        # Sort the input array\n",
    "        nums.sort()\n",
    "        results = []\n",
    "        findNsum(0, len(nums)-1, target, 4, [], results)\n",
    "        return results\n",
    "\n",
    "solution = Solution()\n",
    "\n",
    "nums = list(map(int,input(\"Enter space separated integers for nums: \").split()))\n",
    "print(f\"Input: nums = {nums}\")\n",
    "      \n",
    "target = int(input(\"Enter an integer for target: \"))\n",
    "print(f\"target = {target}\")\n",
    "\n",
    "result = solution.fourSum(nums,target)\n",
    "print(f\"Output: {result}\")\n"
   ]
  },
  {
   "attachments": {},
   "cell_type": "markdown",
   "metadata": {},
   "source": [
    "### Question 3\n",
    "<aside>\n",
    "💡 A permutation of an array of integers is an arrangement of its members into a\n",
    "sequence or linear order.\n",
    "\n",
    "For example, for arr = [1,2,3], the following are all the permutations of arr:\n",
    "[1,2,3], [1,3,2], [2, 1, 3], [2, 3, 1], [3,1,2], [3,2,1].\n",
    "\n",
    "The next permutation of an array of integers is the next lexicographically greater\n",
    "permutation of its integer. More formally, if all the permutations of the array are\n",
    "sorted in one container according to their lexicographical order, then the next\n",
    "permutation of that array is the permutation that follows it in the sorted container.\n",
    "\n",
    "If such an arrangement is not possible, the array must be rearranged as the\n",
    "lowest possible order (i.e., sorted in ascending order).\n",
    "\n",
    "● For example, the next permutation of arr = [1,2,3] is [1,3,2].\n",
    "● Similarly, the next permutation of arr = [2,3,1] is [3,1,2].\n",
    "● While the next permutation of arr = [3,2,1] is [1,2,3] because [3,2,1] does not\n",
    "have a lexicographical larger rearrangement.\n",
    "\n",
    "Given an array of integers nums, find the next permutation of nums.\n",
    "The replacement must be in place and use only constant extra memory.\n",
    "\n",
    "**Example 1:**\n",
    "Input: nums = [1,2,3]\n",
    "Output: [1,3,2]\n",
    "\n",
    "</aside>"
   ]
  },
  {
   "cell_type": "code",
   "execution_count": 4,
   "metadata": {},
   "outputs": [
    {
     "name": "stdout",
     "output_type": "stream",
     "text": [
      "Input: [1, 2, 3]\n",
      "Output: [1, 3, 2]\n"
     ]
    }
   ],
   "source": [
    "from typing import List\n",
    "\n",
    "class Solution:\n",
    "    def nextPermutation(self, nums: List[int]) -> None:\n",
    "        \"\"\" Do not return anything, modify nums in-place instead. \"\"\"\n",
    "        # Initialize pointers i and j to the last element of the array\n",
    "        i = j = len(nums)-1\n",
    "        # Move pointer i to the left until it finds the first pair of consecutive elements where nums[i-1] < nums[i]\n",
    "        while i > 0 and nums[i-1] >= nums[i]:\n",
    "            i -= 1\n",
    "        # If no such pair is found, reverse the array and return immediately\n",
    "        if i == 0:\n",
    "            nums.reverse()\n",
    "            return\n",
    "        # Set pointer k to i-1\n",
    "        k = i - 1\n",
    "        # Move pointer j to the left until it finds an element that is greater than nums[k]\n",
    "        while nums[j] <= nums[k]:\n",
    "            j -= 1\n",
    "        # Swap nums[k] and nums[j]\n",
    "        nums[k], nums[j] = nums[j], nums[k]\n",
    "        # Reverse the subarray from k+1 to the end of the array\n",
    "        l, r = k+1, len(nums)-1\n",
    "        while l < r:\n",
    "            nums[l], nums[r] = nums[r], nums[l]\n",
    "            l +=1 ; r -= 1\n",
    "\n",
    "solution = Solution()\n",
    "nums = list(map(int,input(\"Enter space separated integers for nums: \").split()))\n",
    "print(f\"Input: {nums}\")\n",
    "\n",
    "solution.nextPermutation(nums)\n",
    "\n",
    "print(f\"Output: {nums}\")\n",
    "\n"
   ]
  },
  {
   "attachments": {},
   "cell_type": "markdown",
   "metadata": {},
   "source": [
    "#### Question 4\n",
    "\n",
    "Given a sorted array of distinct integers and a target value, return the index if the\n",
    "target is found. If not, return the index where it would be if it were inserted in\n",
    "order.\n",
    "\n",
    "You must write an algorithm with O(log n) runtime complexity.\n",
    "\n",
    "Example 1:\n",
    "Input: nums = [1,3,5,6], target = 5\n",
    "Output: 2"
   ]
  },
  {
   "cell_type": "code",
   "execution_count": 5,
   "metadata": {},
   "outputs": [
    {
     "name": "stdout",
     "output_type": "stream",
     "text": [
      "Input: nums = [1, 3, 5, 6]\n",
      "target = 5\n",
      "Output: 2\n"
     ]
    }
   ],
   "source": [
    "from typing import List\n",
    "\n",
    "class Solution:\n",
    "    def searchInsert(self, nums: List[int], target: int) -> int:\n",
    "        # Initialize pointers l and r to the first and last elements of the array\n",
    "        l, r = 0, len(nums) - 1\n",
    "        # Continue until l is greater than r\n",
    "        while l <= r:\n",
    "            # Compute the index of the middle element between l and r\n",
    "            mid = l + (r - l) // 2\n",
    "            # Check if nums[mid] is greater than or equal to target\n",
    "            if nums[mid] >= target:\n",
    "                r = mid - 1\n",
    "            else:\n",
    "                l = mid + 1\n",
    "        return l\n",
    "\n",
    "solution = Solution()\n",
    "\n",
    "nums = list(map(int,input(\"Enter space separated integers for nums: \").split()))\n",
    "print(f\"Input: nums = {nums}\")\n",
    "\n",
    "target = int(input(\"Enter an integer for target: \"))\n",
    "print(f\"target = {target}\")\n",
    "\n",
    "result = solution.searchInsert(nums,target)\n",
    "print(f\"Output: {result}\")"
   ]
  },
  {
   "attachments": {},
   "cell_type": "markdown",
   "metadata": {},
   "source": [
    "### Question 5\n",
    "\n",
    "<aside>\n",
    "You are given a large integer represented as an integer array digits, where each\n",
    "digits[i] is the ith digit of the integer. The digits are ordered from most significant\n",
    "to least significant in left-to-right order. The large integer does not contain any\n",
    "leading 0's.\n",
    "\n",
    "Increment the large integer by one and return the resulting array of digits.\n",
    "\n",
    "**Example 1:**\n",
    "Input: digits = [1,2,3]\n",
    "Output: [1,2,4]\n",
    "\n",
    "**Explanation:** The array represents the integer 123.\n",
    "Incrementing by one gives 123 + 1 = 124.\n",
    "Thus, the result should be [1,2,4].\n",
    "\n",
    "</aside>"
   ]
  },
  {
   "cell_type": "code",
   "execution_count": 6,
   "metadata": {},
   "outputs": [
    {
     "name": "stdout",
     "output_type": "stream",
     "text": [
      "Input: [1, 2, 3]\n",
      "Output: [1, 2, 4]\n"
     ]
    }
   ],
   "source": [
    "from typing import List\n",
    "\n",
    "class Solution:\n",
    "    def plusOne(self, digits: List[int]) -> List[int]:\n",
    "        # Check if the last element of digits is equal to 9\n",
    "        if digits[-1] == 9:\n",
    "            # If the length of digits is equal to 1, return [1,0]\n",
    "            if len(digits) == 1:\n",
    "                return [1, 0]\n",
    "            # Otherwise, call plusOne recursively with digits[:-1] and append 0 to the result\n",
    "            return self.plusOne(digits[:-1]) + [0]\n",
    "        else:\n",
    "            # Increment the last element of digits by one\n",
    "            digits[-1] += 1\n",
    "            return digits\n",
    "\n",
    "solution = Solution()\n",
    "\n",
    "digits = list(map(int,input(\"Enter space separated integers for digits: \").split()))\n",
    "print(f\"Input: {digits}\")\n",
    "\n",
    "result = solution.plusOne(digits)\n",
    "print(f\"Output: {result}\")"
   ]
  },
  {
   "attachments": {},
   "cell_type": "markdown",
   "metadata": {},
   "source": [
    "### Question 6\n",
    "\n",
    "Given a non-empty array of integers nums, every element appears twice except\n",
    "for one. Find that single one.\n",
    "\n",
    "You must implement a solution with a linear runtime complexity and use only\n",
    "constant extra space.\n",
    "\n",
    "Example 1:\n",
    "Input: nums = [2,2,1]\n",
    "Output: 1"
   ]
  },
  {
   "cell_type": "code",
   "execution_count": 7,
   "metadata": {},
   "outputs": [
    {
     "name": "stdout",
     "output_type": "stream",
     "text": [
      "Input: nums : [2, 2, 1] \n",
      "Output :  1\n"
     ]
    }
   ],
   "source": [
    "class Solution:\n",
    "    def singleNumber(self, nums: List[int]) -> int:\n",
    "        xor = 0\n",
    "        for num in nums:\n",
    "            # XOR each element in the array with the variable xor\n",
    "            xor ^= num\n",
    "        # The final value of xor will be the single number that appears only once in the array\n",
    "        return xor\n",
    "\n",
    "solution = Solution()\n",
    "\n",
    "# Take input from user\n",
    "nums = list(map(int, input(\"Enter a list of numbers separated by space: \").split()))\n",
    "print(f\"Input: nums : {nums} \")\n",
    "\n",
    "result = solution.singleNumber(nums)\n",
    "print(\"Output : \", result)"
   ]
  },
  {
   "attachments": {},
   "cell_type": "markdown",
   "metadata": {},
   "source": [
    "### Question 7\n",
    "You are given an inclusive range [lower, upper] and a sorted unique integer array\n",
    "nums, where all elements are within the inclusive range.\n",
    "\n",
    "A number x is considered missing if x is in the range [lower, upper] and x is not in\n",
    "nums.\n",
    "\n",
    "Return the shortest sorted list of ranges that exactly covers all the missing\n",
    "numbers. That is, no element of nums is included in any of the ranges, and each\n",
    "missing number is covered by one of the ranges.\n",
    "\n",
    "Example 1:\n",
    "Input: nums = [0,1,3,50,75], lower = 0, upper = 99\n",
    "Output: [[2,2],[4,49],[51,74],[76,99]]\n",
    "\n",
    "Explanation: The ranges are:\n",
    "[2,2]\n",
    "[4,49]\n",
    "[51,74]\n",
    "[76,99]"
   ]
  },
  {
   "cell_type": "code",
   "execution_count": 8,
   "metadata": {},
   "outputs": [
    {
     "name": "stdout",
     "output_type": "stream",
     "text": [
      "Input: nums : [0, 1, 3, 50, 75]\n",
      "lower : 0\n",
      "upper : 99\n",
      "The missing ranges are: [[2, 2], [4, 49], [51, 74], [76, 99]]\n"
     ]
    }
   ],
   "source": [
    "from typing import List\n",
    "\n",
    "class Solution:\n",
    "    def findMissingRanges(self, nums: List[int], lower: int, upper: int) -> List[List[int]]:\n",
    "        # Initialize the result list\n",
    "        result = []\n",
    "        # Add lower-1 and upper+1 to the nums list to handle edge cases\n",
    "        nums = [lower-1] + nums + [upper+1]\n",
    "        # Iterate over the nums list\n",
    "        for i in range(len(nums)-1):\n",
    "            # Check if there is a gap between two consecutive numbers\n",
    "            if nums[i+1] - nums[i] > 1:\n",
    "                # Add the missing range to the result list\n",
    "                result.append([nums[i]+1, nums[i+1]-1])\n",
    "        return result\n",
    "\n",
    "solution = Solution()\n",
    "\n",
    "# Take input from user\n",
    "nums = list(map(int, input(\"Enter a list of numbers separated by space: \").split()))\n",
    "print(f\"Input: nums : {nums}\")\n",
    "\n",
    "lower = int(input(\"Enter the lower bound: \"))\n",
    "print(f\"lower : {lower}\")\n",
    "\n",
    "upper = int(input(\"Enter the upper bound: \"))\n",
    "print(f\"upper : {upper}\")\n",
    "\n",
    "result = solution.findMissingRanges(nums, lower, upper)\n",
    "print(\"The missing ranges are:\", result)\n"
   ]
  },
  {
   "attachments": {},
   "cell_type": "markdown",
   "metadata": {},
   "source": [
    "### Question 8\n",
    "\n",
    "Given an array of meeting time intervals where intervals[i] = [starti, endi],\n",
    "determine if a person could attend all meetings.\n",
    "\n",
    "Example 1:\n",
    "Input: intervals = [[0,30],[5,10],[15,20]]\n",
    "Output: false"
   ]
  },
  {
   "cell_type": "code",
   "execution_count": 11,
   "metadata": {},
   "outputs": [
    {
     "name": "stdout",
     "output_type": "stream",
     "text": [
      "Input : Intervals : [[0, 30], [5, 10], [15, 20]]\n",
      "Output:  False\n"
     ]
    }
   ],
   "source": [
    "from typing import List\n",
    "\n",
    "class Solution:\n",
    "    def canAttendMeetings(self, intervals: List[List[int]]) -> bool:\n",
    "        # Sort the intervals based on their start times\n",
    "        intervals.sort(key=lambda x: x[0])\n",
    "        # Iterate over the intervals\n",
    "        for i in range(1, len(intervals)):\n",
    "            # Check if two consecutive intervals overlap\n",
    "            if intervals[i][0] < intervals[i-1][1]:\n",
    "                # If they overlap, return False\n",
    "                return False\n",
    "        # If no two intervals overlap, return True\n",
    "        return True\n",
    "\n",
    "solution = Solution()\n",
    "\n",
    "# Take input from user\n",
    "intervals = [list(map(int, input(f\"Enter interval {i+1} separated by space: \").split())) for i in range(int(input(\"Enter the number of intervals: \")))]\n",
    "print(f\"Input : Intervals : {intervals}\")\n",
    "\n",
    "result = solution.canAttendMeetings(intervals)\n",
    "print(\"Output: \", result)\n"
   ]
  }
 ],
 "metadata": {
  "kernelspec": {
   "display_name": "Python 3",
   "language": "python",
   "name": "python3"
  },
  "language_info": {
   "codemirror_mode": {
    "name": "ipython",
    "version": 3
   },
   "file_extension": ".py",
   "mimetype": "text/x-python",
   "name": "python",
   "nbconvert_exporter": "python",
   "pygments_lexer": "ipython3",
   "version": "3.10.2"
  },
  "orig_nbformat": 4
 },
 "nbformat": 4,
 "nbformat_minor": 2
}
