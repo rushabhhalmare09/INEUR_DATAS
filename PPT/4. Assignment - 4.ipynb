{
 "cells": [
  {
   "attachments": {},
   "cell_type": "markdown",
   "metadata": {},
   "source": [
    "### Question 1\n",
    "<aside>\n",
    "Given three integer arrays arr1, arr2 and arr3 **sorted** in **strictly increasing** order, return a sorted array of **only** the integers that appeared in **all** three arrays.\n",
    "\n",
    "**Example 1:**\n",
    "\n",
    "Input: arr1 = [1,2,3,4,5], arr2 = [1,2,5,7,9], arr3 = [1,3,4,5,8]\n",
    "\n",
    "Output: [1,5]\n",
    "\n",
    "**Explanation:** Only 1 and 5 appeared in the three arrays.\n",
    "\n",
    "</aside>"
   ]
  },
  {
   "cell_type": "code",
   "execution_count": 18,
   "metadata": {},
   "outputs": [
    {
     "name": "stdout",
     "output_type": "stream",
     "text": [
      "arr1: [1, 2, 3, 4, 5]\n",
      "arr2: [1, 2, 5, 7, 9]\n",
      "arr3: [1, 3, 4, 5, 8]\n",
      "Output : [1, 5]\n"
     ]
    }
   ],
   "source": [
    "from typing import List\n",
    "import bisect\n",
    "\n",
    "class Solution:\n",
    "    def arraysIntersection(self, arr1: List[int], arr2: List[int], arr3: List[int]) -> List[int]:\n",
    "        res = []\n",
    "        # Iterate over the elements of arr1\n",
    "        for num in arr1:\n",
    "            # Check if the current element is present in both arr2 and arr3 using bisect.bisect_left\n",
    "            index2 = bisect.bisect_left(arr2, num)\n",
    "            index3 = bisect.bisect_left(arr3, num)\n",
    "            if index2 < len(arr2) and index3 < len(arr3):\n",
    "                if arr2[index2] == num and arr3[index3] == num:\n",
    "                    # If the element is present in all three arrays, append it to the result list\n",
    "                    res.append(num)\n",
    "        # Return the result list\n",
    "        return res\n",
    "\n",
    "solution = Solution()\n",
    "# Take input from the user for arr1\n",
    "arr1 = input(\"Enter the elements of arr1 separated by spaces: \").split()\n",
    "arr1 = [int(x) for x in arr1]\n",
    "\n",
    "# Take input from the user for arr2\n",
    "arr2 = input(\"Enter the elements of arr2 separated by spaces: \").split()\n",
    "arr2 = [int(x) for x in arr2]\n",
    "\n",
    "# Take input from the user for arr3\n",
    "arr3 = input(\"Enter the elements of arr3 separated by spaces: \").split()\n",
    "arr3 = [int(x) for x in arr3]\n",
    "\n",
    "# Print the input taken from the user\n",
    "print(f\"arr1: {arr1}\")\n",
    "print(f\"arr2: {arr2}\")\n",
    "print(f\"arr3: {arr3}\")\n",
    "\n",
    "result = solution.arraysIntersection(arr1, arr2, arr3)\n",
    "print(f\"Output : {result}\")"
   ]
  },
  {
   "attachments": {},
   "cell_type": "markdown",
   "metadata": {},
   "source": [
    "### Question 2\n",
    "<aside>\n",
    "\n",
    "Given two **0-indexed** integer arrays nums1 and nums2, return *a list* answer *of size* 2 *where:*\n",
    "\n",
    "- answer[0] *is a list of all **distinct** integers in* nums1 *which are **not** present in* nums2*.*\n",
    "- answer[1] *is a list of all **distinct** integers in* nums2 *which are **not** present in* nums1.\n",
    "\n",
    "**Note** that the integers in the lists may be returned in **any** order.\n",
    "\n",
    "**Example 1:**\n",
    "\n",
    "**Input:** nums1 = [1,2,3], nums2 = [2,4,6]\n",
    "\n",
    "**Output:** [[1,3],[4,6]]\n",
    "\n",
    "**Explanation:**\n",
    "\n",
    "For nums1, nums1[1] = 2 is present at index 0 of nums2, whereas nums1[0] = 1 and nums1[2] = 3 are not present in nums2. Therefore, answer[0] = [1,3].\n",
    "\n",
    "For nums2, nums2[0] = 2 is present at index 1 of nums1, whereas nums2[1] = 4 and nums2[2] = 6 are not present in nums2. Therefore, answer[1] = [4,6].\n",
    "\n",
    "</aside>"
   ]
  },
  {
   "cell_type": "code",
   "execution_count": 19,
   "metadata": {},
   "outputs": [
    {
     "name": "stdout",
     "output_type": "stream",
     "text": [
      "nums1 :  [1, 2, 3]\n",
      "nums2 :  [2, 4, 6]\n",
      "Output : [[1, 3], [4, 6]]\n"
     ]
    }
   ],
   "source": [
    "from typing import List\n",
    "\n",
    "class Solution:\n",
    "    def findDifference(self, nums1: List[int], nums2: List[int]) -> List[List[int]]:\n",
    "        # Convert the input lists to sets\n",
    "        s1, s2 = set(nums1), set(nums2)\n",
    "        # Return the difference between the sets as lists\n",
    "        return [list(s1 - s2), list(s2 - s1)]\n",
    "\n",
    "solution = Solution()\n",
    "\n",
    "# Take input from user\n",
    "nums1 = list(map(int, input(\"Enter space-separated integers for nums1: \").split()))\n",
    "print(f\"nums1 :  {nums1}\")\n",
    "\n",
    "nums2 = list(map(int, input(\"Enter space-separated integers for nums2: \").split()))\n",
    "print(f\"nums2 :  {nums2}\")\n",
    "\n",
    "result = solution.findDifference(nums1, nums2)\n",
    "print(f\"Output : {result}\")\n"
   ]
  },
  {
   "attachments": {},
   "cell_type": "markdown",
   "metadata": {},
   "source": [
    "### Question 3\n",
    "<aside>\n",
    "Given a 2D integer array matrix, return *the **transpose** of* matrix.\n",
    "\n",
    "The **transpose** of a matrix is the matrix flipped over its main diagonal, switching the matrix's row and column indices.\n",
    "\n",
    "**Example 1:**\n",
    "\n",
    "Input: matrix = [[1,2,3],[4,5,6],[7,8,9]]\n",
    "\n",
    "Output: [[1,4,7],[2,5,8],[3,6,9]]\n",
    "\n",
    "</aside>"
   ]
  },
  {
   "cell_type": "code",
   "execution_count": 21,
   "metadata": {},
   "outputs": [
    {
     "name": "stdout",
     "output_type": "stream",
     "text": [
      " Input : - Matrix : [[1, 2, 3], [4, 5, 6], [7, 8, 9]]\n",
      " Output : [[1, 4, 7], [2, 5, 8], [3, 6, 9]]\n"
     ]
    }
   ],
   "source": [
    "from typing import List\n",
    "\n",
    "class Solution:\n",
    "    def transpose(self, matrix: List[List[int]]) -> List[List[int]]:\n",
    "        # Use zip to transpose the matrix and convert the result to a list of lists\n",
    "        return [list(row) for row in zip(*matrix)]\n",
    "\n",
    "solution = Solution()\n",
    "\n",
    "rows = int(input(\"Enter number of rows: \"))\n",
    "\n",
    "cols = int(input(\"Enter number of columns: \"))\n",
    "\n",
    "matrix = []\n",
    "\n",
    "for i in range(rows):\n",
    "    row = list(map(int, input(f\"Enter space-separated integers for row {i+1}: \").split()))\n",
    "    matrix.append(row)\n",
    "    \n",
    "print(f\" Input : - Matrix : {matrix}\")\n",
    "\n",
    "result = solution.transpose(matrix)\n",
    "print(f\" Output : {result}\")\n"
   ]
  },
  {
   "attachments": {},
   "cell_type": "markdown",
   "metadata": {},
   "source": [
    "### Question 4\n",
    "<aside>\n",
    "Given an integer array nums of 2n integers, group these integers into n pairs (a1, b1), (a2, b2), ..., (an, bn) such that the sum of min(ai, bi) for all i is **maximized**. Return *the maximized sum*.\n",
    "\n",
    "**Example 1:**\n",
    "\n",
    "Input: nums = [1,4,3,2]\n",
    "\n",
    "Output: 4\n",
    "\n",
    "**Explanation:** All possible pairings (ignoring the ordering of elements) are:\n",
    "\n",
    "1. (1, 4), (2, 3) -> min(1, 4) + min(2, 3) = 1 + 2 = 3\n",
    "\n",
    "2. (1, 3), (2, 4) -> min(1, 3) + min(2, 4) = 1 + 2 = 3\n",
    "\n",
    "3. (1, 2), (3, 4) -> min(1, 2) + min(3, 4) = 1 + 3 = 4\n",
    "\n",
    "So the maximum possible sum is 4.\n",
    "\n",
    "</aside>"
   ]
  },
  {
   "cell_type": "code",
   "execution_count": 22,
   "metadata": {},
   "outputs": [
    {
     "name": "stdout",
     "output_type": "stream",
     "text": [
      "Input : nums : [1, 4, 3, 2]\n",
      "Output : 4\n"
     ]
    }
   ],
   "source": [
    "from typing import List\n",
    "\n",
    "class Solution:\n",
    "    def arrayPairSum(self, nums: List[int]) -> int:\n",
    "        # Sort the input list\n",
    "        nums.sort()\n",
    "        # Sum every other element starting from the first element\n",
    "        return sum(nums[::2])\n",
    "\n",
    "solution = Solution()\n",
    "\n",
    "# Take input from user\n",
    "nums = list(map(int, input(\"Enter space-separated integers for nums: \").split()))\n",
    "print(f\"Input : nums : {nums}\")\n",
    "\n",
    "result = solution.arrayPairSum(nums)\n",
    "print(f\"Output : {result}\")\n"
   ]
  },
  {
   "attachments": {},
   "cell_type": "markdown",
   "metadata": {},
   "source": [
    "### Question 5\n",
    "<aside>\n",
    "You have n coins and you want to build a staircase with these coins. The staircase consists of k rows where the ith row has exactly i coins. The last row of the staircase **may be** incomplete.\n",
    "\n",
    "Given the integer n, return *the number of **complete rows** of the staircase you will build*.\n",
    "\n",
    "**Example 1:**\n",
    "\n",
    "\n",
    "**Input:** n = 5\n",
    "\n",
    "**Output:** 2\n",
    "\n",
    "**Explanation:** Because the 3rd row is incomplete, we return 2.\n",
    "\n",
    "</aside>"
   ]
  },
  {
   "cell_type": "code",
   "execution_count": 24,
   "metadata": {},
   "outputs": [
    {
     "name": "stdout",
     "output_type": "stream",
     "text": [
      "Input : nums : 5\n",
      "Output :  2\n"
     ]
    }
   ],
   "source": [
    "import math\n",
    "from typing import List\n",
    "\n",
    "class Solution:\n",
    "    def arrangeCoins(self, n: int) -> int:\n",
    "        # Use the mathematical formula to calculate the number of complete rows\n",
    "        return int((math.sqrt(8 * n + 1)-1)/2)\n",
    "\n",
    "solution = Solution()\n",
    "\n",
    "# Take input from user\n",
    "n = int(input(\"Enter the number of coins: \"))\n",
    "print(f\"Input : nums : {n}\")\n",
    "\n",
    "result = solution.arrangeCoins(n)\n",
    "print(f\"Output :  {result}\")\n"
   ]
  },
  {
   "attachments": {},
   "cell_type": "markdown",
   "metadata": {},
   "source": [
    "### Question 6\n",
    "<aside>\n",
    "Given an integer array nums sorted in **non-decreasing** order, return *an array of **the squares of each number** sorted in non-decreasing order*.\n",
    "\n",
    "**Example 1:**\n",
    "\n",
    "Input: nums = [-4,-1,0,3,10]\n",
    "\n",
    "Output: [0,1,9,16,100]\n",
    "\n",
    "**Explanation:** After squaring, the array becomes [16,1,0,9,100].\n",
    "After sorting, it becomes [0,1,9,16,100]\n",
    "\n",
    "</aside>"
   ]
  },
  {
   "cell_type": "code",
   "execution_count": 25,
   "metadata": {},
   "outputs": [
    {
     "name": "stdout",
     "output_type": "stream",
     "text": [
      "Input: [-4, -1, 0, 3, 10]\n",
      "Output: [0, 1, 9, 16, 100]\n"
     ]
    }
   ],
   "source": [
    "import collections\n",
    "from typing import List\n",
    "\n",
    "class Solution:\n",
    "    def sortedSquares(self, nums: List[int]) -> List[int]:\n",
    "        answer = collections.deque()\n",
    "        l, r = 0, len(nums) - 1\n",
    "        while l <= r:\n",
    "            left, right = abs(nums[l]), abs(nums[r])\n",
    "            if left > right:\n",
    "                answer.appendleft(left * left)\n",
    "                l += 1\n",
    "            else:\n",
    "                answer.appendleft(right * right)\n",
    "                r -= 1\n",
    "        return list(answer)\n",
    "\n",
    "solution = Solution()\n",
    "\n",
    "# Take input from user\n",
    "nums = list(map(int, input('Enter a list of integers separated by spaces: ').split()))\n",
    "\n",
    "# Print the input taken from user\n",
    "print(f'Input: {nums}')\n",
    "\n",
    "result = solution.sortedSquares(nums)\n",
    "print(f'Output: {result}')\n"
   ]
  },
  {
   "attachments": {},
   "cell_type": "markdown",
   "metadata": {},
   "source": [
    "### Question 7\n",
    "<aside>\n",
    "You are given an m x n matrix M initialized with all 0's and an array of operations ops, where ops[i] = [ai, bi] means M[x][y] should be incremented by one for all 0 <= x < ai and 0 <= y < bi.\n",
    "\n",
    "Count and return *the number of maximum integers in the matrix after performing all the operations*\n",
    "\n",
    "**Input:** m = 3, n = 3, ops = [[2,2],[3,3]]\n",
    "\n",
    "**Output:** 4\n",
    "\n",
    "**Explanation:** The maximum integer in M is 2, and there are four of it in M. So return 4.\n",
    "</aside>"
   ]
  },
  {
   "cell_type": "code",
   "execution_count": 31,
   "metadata": {},
   "outputs": [
    {
     "name": "stdout",
     "output_type": "stream",
     "text": [
      "m : 3\n",
      "n : 3\n",
      "ops : [[2, 2], [3, 3]]\n",
      "Output : 4\n"
     ]
    }
   ],
   "source": [
    "class Solution:\n",
    "    def maxCount(self, m: int, n: int, ops: List[List[int]]) -> int:\n",
    "        # If there are no operations, return the total number of elements in the matrix\n",
    "        if not ops:\n",
    "            return m * n\n",
    "        # Find the minimum value of a_i and b_i from all operations\n",
    "        # The number of maximum integers will be the product of these minimum values\n",
    "        return min(op[0] for op in ops) * min(op[1] for op in ops)\n",
    "\n",
    "# Create an instance of the Solution class\n",
    "solution = Solution()\n",
    "\n",
    "# Take input from user for m and n\n",
    "m = int(input(\"Enter value for m: \"))\n",
    "print(f\"m : {m}\")\n",
    "\n",
    "n = int(input(\"Enter value for n: \"))\n",
    "print(f\"n : {n}\")\n",
    "\n",
    "# Take input from user for number of operations\n",
    "num_ops = int(input(\"Enter number of operations: \"))\n",
    "\n",
    "# Initialize an empty list to store operations\n",
    "ops = []\n",
    "\n",
    "# Take input from user for each operation\n",
    "for i in range(num_ops):\n",
    "    a, b = map(int, input(f\"Enter values for operation {i+1}: \").split())\n",
    "    ops.append([a, b])\n",
    "\n",
    "print(f\"ops : {ops}\")\n",
    "\n",
    "# Call the maxCount method and print the result\n",
    "result = solution.maxCount(m, n, ops)\n",
    "print(f\"Output : {result}\")\n"
   ]
  },
  {
   "attachments": {},
   "cell_type": "markdown",
   "metadata": {},
   "source": [
    "### Question 8\n",
    "<aside>\n",
    "\n",
    "Given the array nums consisting of 2n elements in the form [x1,x2,...,xn,y1,y2,...,yn].\n",
    "\n",
    "*Return the array in the form* [x1,y1,x2,y2,...,xn,yn].\n",
    "\n",
    "**Example 1:**\n",
    "\n",
    "**Input:** nums = [2,5,1,3,4,7], n = 3\n",
    "\n",
    "**Output:** [2,3,5,4,1,7]\n",
    "\n",
    "**Explanation:** Since x1=2, x2=5, x3=1, y1=3, y2=4, y3=7 then the answer is [2,3,5,4,1,7].\n",
    "\n",
    "</aside>"
   ]
  },
  {
   "cell_type": "code",
   "execution_count": 34,
   "metadata": {},
   "outputs": [
    {
     "name": "stdout",
     "output_type": "stream",
     "text": [
      "Input : nums : [2, 5, 1, 3, 4, 7]\n",
      "n : 3\n",
      "Output: [2, 3, 5, 4, 1, 7]\n"
     ]
    }
   ],
   "source": [
    "class Solution:\n",
    "    def shuffle(self, nums: List[int], n: int) -> List[int]:\n",
    "        # Define a function to get the desired index for an element\n",
    "        getDesireIdx = lambda i: i * 2 if i < n else (i - n) * 2 + 1\n",
    "        # Iterate over all elements in the array\n",
    "        for i in range(2 * n):\n",
    "            j = i\n",
    "            # Swap elements until the current element is at its desired index\n",
    "            while nums[i] >= 0:\n",
    "                j = getDesireIdx(j)\n",
    "                nums[i], nums[j] = nums[j], -nums[i]\n",
    "        # Change all elements back to positive\n",
    "        for i in range(2 * n):\n",
    "            nums[i] = -nums[i]\n",
    "        return nums\n",
    "\n",
    "# Create an instance of the Solution class\n",
    "solution = Solution()\n",
    "\n",
    "# Take input from user for the array of numbers\n",
    "nums = list(map(int, input(\"Enter values for nums: \").split()))\n",
    "print(f\"Input : nums : {nums}\")\n",
    "\n",
    "# Take input from user for n\n",
    "n = int(input(\"Enter value for n: \"))\n",
    "print(f\"n : {n}\")\n",
    "\n",
    "# Call the shuffle method and print the result\n",
    "result = solution.shuffle(nums, n)\n",
    "print(f\"Output: {result}\")\n"
   ]
  }
 ],
 "metadata": {
  "kernelspec": {
   "display_name": "Python 3",
   "language": "python",
   "name": "python3"
  },
  "language_info": {
   "codemirror_mode": {
    "name": "ipython",
    "version": 3
   },
   "file_extension": ".py",
   "mimetype": "text/x-python",
   "name": "python",
   "nbconvert_exporter": "python",
   "pygments_lexer": "ipython3",
   "version": "3.10.2"
  },
  "orig_nbformat": 4
 },
 "nbformat": 4,
 "nbformat_minor": 2
}
