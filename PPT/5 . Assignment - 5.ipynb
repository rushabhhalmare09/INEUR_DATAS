{
 "cells": [
  {
   "attachments": {},
   "cell_type": "markdown",
   "metadata": {},
   "source": [
    "### Question - 1\n",
    "Convert 1D Array Into 2D Array\n",
    "\n",
    "You are given a **0-indexed** 1-dimensional (1D) integer array original, and two integers, m and n. You are tasked with creating a 2-dimensional (2D) array with  m rows and n columns using **all** the elements from original.\n",
    "\n",
    "The elements from indices 0 to n - 1 (**inclusive**) of original should form the first row of the constructed 2D array, the elements from indices n to 2 * n - 1 (**inclusive**) should form the second row of the constructed 2D array, and so on.\n",
    "\n",
    "Return *an* m x n *2D array constructed according to the above procedure, or an empty 2D array if it is impossible*.\n",
    "\n",
    "**Example 1:**\n",
    "\n",
    "**Input:** original = [1,2,3,4], m = 2, n = 2\n",
    "\n",
    "**Output:** [[1,2],[3,4]]\n",
    "\n",
    "**Explanation:** The constructed 2D array should contain 2 rows and 2 columns.\n",
    "\n",
    "The first group of n=2 elements in original, [1,2], becomes the first row in the constructed 2D array.\n",
    "The second group of n=2 elements in original, [3,4], becomes the second row in the constructed 2D array."
   ]
  },
  {
   "cell_type": "code",
   "execution_count": 5,
   "metadata": {},
   "outputs": [
    {
     "name": "stdout",
     "output_type": "stream",
     "text": [
      "Input : original : [1, 2, 3, 4]\n",
      "m : 2\n",
      "n : 2\n",
      "Output : [[1, 2], [3, 4]]\n"
     ]
    }
   ],
   "source": [
    "from typing import List\n",
    "\n",
    "class Solution:\n",
    "    def construct2DArray(self, original: List[int], m: int, n: int) -> List[List[int]]:\n",
    "        ans = []\n",
    "        if len(original) == m*n: \n",
    "            for i in range(0, len(original), n): \n",
    "                ans.append(original[i:i+n])\n",
    "        return ans \n",
    "    \n",
    "solution = Solution()\n",
    "\n",
    "original = input(\"Enter the elements of the original array separated by spaces: \").split()\n",
    "original = [int(x) for x in original]\n",
    "print(f\"Input : original : {original}\")\n",
    "\n",
    "m = int(input(\"Enter the number of rows (m): \"))\n",
    "print(f\"m : {m}\")\n",
    "\n",
    "n = int(input(\"Enter the number of columns (n): \"))\n",
    "print(f\"n : {n}\")\n",
    "\n",
    "result = solution.construct2DArray(original, m, n)\n",
    "print(f\"Output : {result}\")\n"
   ]
  },
  {
   "attachments": {},
   "cell_type": "markdown",
   "metadata": {},
   "source": [
    "### Question 2\n",
    "You have n coins and you want to build a staircase with these coins. The staircase consists of k rows where the ith row has exactly i coins. The last row of the staircase **may be** incomplete.\n",
    "\n",
    "Given the integer n, return *the number of **complete rows** of the staircase you will build*.\n",
    "\n",
    "**Example 1:**\n",
    "\n",
    "**Input:** n = 5\n",
    "\n",
    "**Output:** 2\n",
    "\n",
    "**Explanation:** Because the 3rd row is incomplete, we return 2.\n",
    "\n"
   ]
  },
  {
   "cell_type": "code",
   "execution_count": 6,
   "metadata": {},
   "outputs": [
    {
     "name": "stdout",
     "output_type": "stream",
     "text": [
      "Input : n : 5\n",
      "Output : 2\n",
      "\n"
     ]
    }
   ],
   "source": [
    "import math\n",
    "\n",
    "class Solution:\n",
    "    def arrangeCoins(self, n: int) -> int:\n",
    "        return int((math.sqrt(8 * n + 1)-1)/2)\n",
    "    \n",
    "solution = Solution()\n",
    "\n",
    "n = int(input(\"Enter the number of coins (n): \"))\n",
    "print(f\"Input : n : {n}\")\n",
    "\n",
    "result = solution.arrangeCoins(n)\n",
    "print(f\"Output : {result}\\n\")\n"
   ]
  },
  {
   "attachments": {},
   "cell_type": "markdown",
   "metadata": {},
   "source": [
    "### Question 3\n",
    "Given an integer array nums sorted in **non-decreasing** order, return *an array of **the squares of each number** sorted in non-decreasing order*.\n",
    "\n",
    "**Example 1:**\n",
    "\n",
    "**Input:** nums = [-4,-1,0,3,10]\n",
    "\n",
    "**Output:** [0,1,9,16,100]\n",
    "\n",
    "**Explanation:** After squaring, the array becomes [16,1,0,9,100].\n",
    "\n",
    "After sorting, it becomes [0,1,9,16,100].\n",
    "\n",
    "<aside>"
   ]
  },
  {
   "cell_type": "code",
   "execution_count": 7,
   "metadata": {},
   "outputs": [
    {
     "name": "stdout",
     "output_type": "stream",
     "text": [
      "Inout : [-4, -1, 0, 3, 10]\n",
      "Output : [0, 1, 9, 16, 100]\n"
     ]
    }
   ],
   "source": [
    "from typing import List\n",
    "import collections\n",
    "\n",
    "class Solution:\n",
    "    def sortedSquares(self, nums: List[int]) -> List[int]:\n",
    "        answer = collections.deque()\n",
    "        l, r = 0, len(nums) - 1\n",
    "        while l <= r:\n",
    "            left, right = abs(nums[l]), abs(nums[r])\n",
    "            # Compare the absolute values of nums[l] and nums[r]\n",
    "            if left > right:\n",
    "                # Square nums[l] and add it to the front of the deque\n",
    "                answer.appendleft(left * left)\n",
    "                l += 1\n",
    "            else:\n",
    "                # Square nums[r] and add it to the front of the deque\n",
    "                answer.appendleft(right * right)\n",
    "                r -= 1\n",
    "        return list(answer)\n",
    "    \n",
    "solution = Solution()\n",
    "\n",
    "nums = input(\"Enter the elements of nums separated by spaces: \").split()\n",
    "nums = [int(x) for x in nums]\n",
    "print(f\"Inout : {nums}\")\n",
    "\n",
    "result = solution.sortedSquares(nums)\n",
    "print(f\"Output : {result}\")\n",
    "\n"
   ]
  },
  {
   "attachments": {},
   "cell_type": "markdown",
   "metadata": {},
   "source": [
    "### Question 4\n",
    "\n",
    "Given two **0-indexed** integer arrays nums1 and nums2, return *a list* answer *of size* 2 *where:*\n",
    "\n",
    "- answer[0] *is a list of all **distinct** integers in* nums1 *which are **not** present in* nums2*.*\n",
    "- answer[1] *is a list of all **distinct** integers in* nums2 *which are **not** present in* nums1.\n",
    "\n",
    "**Note** that the integers in the lists may be returned in **any** order.\n",
    "\n",
    "**Example 1:**\n",
    "\n",
    "**Input:** nums1 = [1,2,3], nums2 = [2,4,6]\n",
    "\n",
    "**Output:** [[1,3],[4,6]]\n",
    "\n",
    "**Explanation:**\n",
    "\n",
    "For nums1, nums1[1] = 2 is present at index 0 of nums2, whereas nums1[0] = 1 and nums1[2] = 3 are not present in nums2. Therefore, answer[0] = [1,3].\n",
    "\n",
    "For nums2, nums2[0] = 2 is present at index 1 of nums1, whereas nums2[1] = 4 and nums2[2] = 6 are not present in nums2. Therefore, answer[1] = [4,6].\n",
    "\n",
    "</aside>"
   ]
  },
  {
   "cell_type": "code",
   "execution_count": 8,
   "metadata": {},
   "outputs": [
    {
     "name": "stdout",
     "output_type": "stream",
     "text": [
      "Input : nums1 : [1, 2, 3]\n",
      "Input : nums1\u0002 : [2, 4, 6]\n",
      "Output : [[1, 3], [4, 6]]\n"
     ]
    }
   ],
   "source": [
    "from typing import List\n",
    "\n",
    "class Solution:\n",
    "    def findDifference(self, nums1: List[int], nums2: List[int]) -> List[List[int]]:\n",
    "        # Convert nums1 and nums2 into sets\n",
    "        s1, s2 = set(nums1), set(nums2)\n",
    "        \n",
    "        # Use set subtraction to find the elements that are present in one set but not in the other\n",
    "        return [list(s1 - s2), list(s2 - s1)]\n",
    "    \n",
    "solution = Solution()\n",
    "\n",
    "nums1 = input(\"Enter the elements of nums1 separated by spaces: \").split()\n",
    "nums1 = [int(x) for x in nums1]\n",
    "print(f\"Input : nums1 : {nums1}\")\n",
    "\n",
    "nums2 = input(\"Enter the elements of nums2 separated by spaces: \").split()\n",
    "nums2 = [int(x) for x in nums2]\n",
    "print(f\"Input : nums1\\2 : {nums2}\")\n",
    "\n",
    "result = solution.findDifference(nums1, nums2)\n",
    "print(f\"Output : {result}\")\n"
   ]
  },
  {
   "attachments": {},
   "cell_type": "markdown",
   "metadata": {},
   "source": [
    "### Question 5\n",
    "\n",
    "Given two integer arrays arr1 and arr2, and the integer d, *return the distance value between the two arrays*.\n",
    "\n",
    "The distance value is defined as the number of elements arr1[i] such that there is not any element arr2[j] where |arr1[i]-arr2[j]| <= d.\n",
    "\n",
    "**Example 1:**\n",
    "\n",
    "**Input:** arr1 = [4,5,8], arr2 = [10,9,1,8], d = 2\n",
    "\n",
    "**Output:** 2\n",
    "\n",
    "**Explanation:**\n",
    "\n",
    "For arr1[0]=4 we have:\n",
    "\n",
    "|4-10|=6 > d=2\n",
    "\n",
    "|4-9|=5 > d=2\n",
    "\n",
    "|4-1|=3 > d=2\n",
    "\n",
    "|4-8|=4 > d=2\n",
    "\n",
    "For arr1[1]=5 we have:\n",
    "\n",
    "|5-10|=5 > d=2\n",
    "\n",
    "|5-9|=4 > d=2\n",
    "\n",
    "|5-1|=4 > d=2\n",
    "\n",
    "|5-8|=3 > d=2\n",
    "\n",
    "For arr1[2]=8 we have:\n",
    "\n",
    "**|8-10|=2 <= d=2**\n",
    "\n",
    "**|8-9|=1 <= d=2**\n",
    "\n",
    "|8-1|=7 > d=2\n",
    "\n",
    "**|8-8|=0 <= d=2**"
   ]
  },
  {
   "cell_type": "code",
   "execution_count": 9,
   "metadata": {},
   "outputs": [
    {
     "name": "stdout",
     "output_type": "stream",
     "text": [
      "Input : arr1 : [4, 5, 8]\n",
      "arr2 : [10, 9, 1, 8]\n",
      "d : 2\n",
      "Output : 2\n"
     ]
    }
   ],
   "source": [
    "from typing import List\n",
    "\n",
    "class Solution:\n",
    "    def findTheDistanceValue(self, arr1: List[int], arr2: List[int], d: int) -> int:\n",
    "        # Sort arr1 and arr2 in non-decreasing order\n",
    "        arr1.sort()\n",
    "        arr2.sort()\n",
    "        ans = i = j = 0\n",
    "        while i < len(arr1) and j < len(arr2): \n",
    "            # Compare arr1[i] and arr2[j]\n",
    "            if arr1[i] <= arr2[j] + d: \n",
    "                # Check if |arr1[i]-arr2[j]| > d\n",
    "                if arr1[i] < arr2[j] - d:\n",
    "                    ans += 1\n",
    "                i += 1\n",
    "            else:\n",
    "                j += 1\n",
    "        # Add any remaining elements in arr1 that satisfy |arr1[i]-arr2[j]| > d\n",
    "        return ans + len(arr1) - i\n",
    "    \n",
    "solution = Solution()\n",
    "\n",
    "arr1 = input(\"Enter the elements of arr1 separated by spaces: \").split()\n",
    "arr1 = [int(x) for x in arr1]\n",
    "print(f\"Input : arr1 : {arr1}\")\n",
    "\n",
    "arr2 = input(\"Enter the elements of arr2 separated by spaces: \").split()\n",
    "arr2 = [int(x) for x in arr2]\n",
    "print(f\"arr2 : {arr2}\")\n",
    "\n",
    "d = int(input(\"Enter the value of d: \"))\n",
    "print(f\"d : {d}\")\n",
    "\n",
    "result = solution.findTheDistanceValue(arr1, arr2, d)\n",
    "print(f\"Output : {result}\")\n"
   ]
  },
  {
   "attachments": {},
   "cell_type": "markdown",
   "metadata": {},
   "source": [
    "### Question 6\n",
    "Given an integer array nums of length n where all the integers of nums are in the range [1, n] and each integer appears **once** or **twice**, return *an array of all the integers that appears **twice***.\n",
    "\n",
    "You must write an algorithm that runs in O(n) time and uses only constant extra space.\n",
    "\n",
    "**Example 1:**\n",
    "\n",
    "**Input:** nums = [4,3,2,7,8,2,3,1]\n",
    "\n",
    "**Output:**\n",
    "\n",
    "[2,3]\n"
   ]
  },
  {
   "cell_type": "code",
   "execution_count": 10,
   "metadata": {},
   "outputs": [
    {
     "name": "stdout",
     "output_type": "stream",
     "text": [
      "Input : nums : [4, 3, 2, 7, 8, 2, 3, 1]\n",
      "Output : [2, 3]\n"
     ]
    }
   ],
   "source": [
    "from typing import List\n",
    "\n",
    "class Solution:\n",
    "    def findDuplicates(self, nums: List[int]) -> List[int]:\n",
    "        res = []\n",
    "        for x in nums:\n",
    "            # Check if we have already seen the integer abs(x)\n",
    "            if nums[abs(x)-1] < 0:\n",
    "                res.append(abs(x))\n",
    "            else:\n",
    "                # Negate nums[abs(x)-1] to mark that we have seen the integer abs(x)\n",
    "                nums[abs(x)-1] *= -1\n",
    "        return res\n",
    "    \n",
    "solution = Solution()\n",
    "\n",
    "nums = input(\"Enter the elements of nums separated by spaces: \").split()\n",
    "nums = [int(x) for x in nums]\n",
    "print(f\"Input : nums : {nums}\")\n",
    "\n",
    "result = solution.findDuplicates(nums)\n",
    "print(f\"Output : {result}\")\n"
   ]
  },
  {
   "attachments": {},
   "cell_type": "markdown",
   "metadata": {},
   "source": [
    "### Question 7\n",
    "Suppose an array of length n sorted in ascending order is **rotated** between 1 and n times. For example, the array nums = [0,1,2,4,5,6,7] might become:\n",
    "\n",
    "- [4,5,6,7,0,1,2] if it was rotated 4 times.\n",
    "- [0,1,2,4,5,6,7] if it was rotated 7 times.\n",
    "\n",
    "Notice that **rotating** an array [a[0], a[1], a[2], ..., a[n-1]] 1 time results in the array [a[n-1], a[0], a[1], a[2], ..., a[n-2]].\n",
    "\n",
    "Given the sorted rotated array nums of **unique** elements, return *the minimum element of this array*.\n",
    "\n",
    "You must write an algorithm that runs in O(log n) time.\n",
    "\n",
    "**Example 1:**\n",
    "\n",
    "**Input:** nums = [3,4,5,1,2]\n",
    "\n",
    "**Output:** 1\n",
    "\n",
    "**Explanation:**\n",
    "\n",
    "The original array was [1,2,3,4,5] rotated 3 times."
   ]
  },
  {
   "cell_type": "code",
   "execution_count": 11,
   "metadata": {},
   "outputs": [
    {
     "name": "stdout",
     "output_type": "stream",
     "text": [
      "Input : nums : [3, 4, 5, 1, 2]\n",
      "Output : 1\n"
     ]
    }
   ],
   "source": [
    "from typing import List\n",
    "\n",
    "class Solution:\n",
    "    def findMin(self, nums: List[int]) -> int:\n",
    "        left, right = 0, len(nums)-1\n",
    "                \n",
    "        while left < right:\n",
    "            mid = (left + right) // 2\n",
    "                        \n",
    "            # Compare nums[mid] and nums[right]\n",
    "            if nums[mid] > nums[right]:\n",
    "                # The minimum element is in the right half of the array\n",
    "                left = mid + 1\n",
    "            else:\n",
    "                # The minimum element is in the left half of the array (including mid)\n",
    "                right = mid\n",
    "                \n",
    "        # left and right both point to the minimum element\n",
    "        return nums[left]\n",
    "        \n",
    "solution = Solution()\n",
    "\n",
    "nums = input(\"Enter the elements of nums separated by spaces: \").split()\n",
    "nums = [int(x) for x in nums]\n",
    "print(f\"Input : nums : {nums}\")\n",
    "\n",
    "result = solution.findMin(nums)\n",
    "print(f\"Output : {result}\")\n"
   ]
  },
  {
   "attachments": {},
   "cell_type": "markdown",
   "metadata": {},
   "source": [
    "### Question 8 \n",
    "An integer array original is transformed into a **doubled** array changed by appending **twice the value** of every element in original, and then randomly **shuffling** the resulting array.\n",
    "\n",
    "Given an array changed, return original *if* changed *is a **doubled** array. If* changed *is not a **doubled** array, return an empty array. The elements in* original *may be returned in **any** order*.\n",
    "\n",
    "**Example 1:**\n",
    "\n",
    "**Input:** changed = [1,3,4,2,6,8]\n",
    "\n",
    "**Output:** [1,3,4]\n",
    "\n",
    "**Explanation:** One possible original array could be [1,3,4]:\n",
    "\n",
    "- Twice the value of 1 is 1 * 2 = 2.\n",
    "- Twice the value of 3 is 3 * 2 = 6.\n",
    "- Twice the value of 4 is 4 * 2 = 8.\n",
    "\n",
    "Other original arrays could be [4,3,1] or [3,1,4]."
   ]
  },
  {
   "cell_type": "code",
   "execution_count": 12,
   "metadata": {},
   "outputs": [
    {
     "name": "stdout",
     "output_type": "stream",
     "text": [
      "Input : changed : [1, 3, 4, 2, 6, 8]\n",
      "Output : [1, 3, 4]\n"
     ]
    }
   ],
   "source": [
    "from typing import List\n",
    "import collections\n",
    "\n",
    "class Solution:\n",
    "    def findOriginalArray(self, changed: List[int]) -> List[int]:\n",
    "        # Create a counter from changed\n",
    "        c = collections.Counter(changed)\n",
    "        \n",
    "        # Check if changed is not a doubled array\n",
    "        if c[0] % 2:\n",
    "            return []\n",
    "        \n",
    "        # Iterate over the elements in c\n",
    "        for x in sorted(c):\n",
    "            # Check if changed is not a doubled array\n",
    "            if c[x] > c[2 * x]:\n",
    "                return []\n",
    "            \n",
    "            # Decrement c[2 * x]\n",
    "            c[2 * x] -= c[x] if x else c[x] // 2 \n",
    "        \n",
    "        # Return one possible original array\n",
    "        return list(c.elements())\n",
    "    \n",
    "solution = Solution()\n",
    "\n",
    "changed = input(\"Enter the elements of changed separated by spaces: \").split()\n",
    "changed = [int(x) for x in changed]\n",
    "print(f\"Input : changed : {changed}\")\n",
    "\n",
    "result = solution.findOriginalArray(changed)\n",
    "print(f\"Output : {result}\")\n"
   ]
  }
 ],
 "metadata": {
  "kernelspec": {
   "display_name": "Python 3",
   "language": "python",
   "name": "python3"
  },
  "language_info": {
   "codemirror_mode": {
    "name": "ipython",
    "version": 3
   },
   "file_extension": ".py",
   "mimetype": "text/x-python",
   "name": "python",
   "nbconvert_exporter": "python",
   "pygments_lexer": "ipython3",
   "version": "3.10.2"
  },
  "orig_nbformat": 4
 },
 "nbformat": 4,
 "nbformat_minor": 2
}
