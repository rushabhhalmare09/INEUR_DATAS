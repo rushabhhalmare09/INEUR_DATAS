{
 "cells": [
  {
   "attachments": {},
   "cell_type": "markdown",
   "metadata": {},
   "source": [
    "### Question - 1\n",
    "A permutation perm of n + 1 integers of all the integers in the range [0, n] can be represented as a string s of length n where:\n",
    "\n",
    "- s[i] == 'I' if perm[i] < perm[i + 1], and\n",
    "- s[i] == 'D' if perm[i] > perm[i + 1].\n",
    "\n",
    "Given a string s, reconstruct the permutation perm and return it. If there are multiple valid permutations perm, return **any of them**.\n",
    "\n",
    "**Example 1:**\n",
    "\n",
    "**Input:** s = \"IDID\"\n",
    "\n",
    "**Output:**\n",
    "\n",
    "[0,4,1,3,2]"
   ]
  },
  {
   "cell_type": "code",
   "execution_count": 1,
   "metadata": {},
   "outputs": [
    {
     "name": "stdout",
     "output_type": "stream",
     "text": [
      "Input: IDID\n",
      "Output: [0, 4, 2, 3, 1]\n"
     ]
    }
   ],
   "source": [
    "def reconstruct_permutation(s):\n",
    "    n = len(s) # length of input string\n",
    "    low, high = 0, n # initialize low and high values\n",
    "    permutation = [] # initialize empty list to store final permutation\n",
    "\n",
    "    for ch in s: # iterate through each character in input string\n",
    "        if ch == 'I': # if character is 'I'\n",
    "            permutation.append(low) # append low value to permutation list\n",
    "            low += 1 # increment low value by 1\n",
    "        elif ch == 'D': # if character is 'D'\n",
    "            permutation.append(high) # append high value to permutation list\n",
    "            high -= 1 # decrement high value by 1\n",
    "\n",
    "    permutation.append(low) # append final value of low to permutation list\n",
    "    permutation[low:] = reversed(permutation[low:]) # reverse sublist of permutation starting from index low\n",
    "\n",
    "    return permutation # return final permutation\n",
    "\n",
    "s = input(\"Enter a string of 'I's and 'D's: \") # take input from user\n",
    "print(\"Input:\", s) # print input taken from user\n",
    "print(\"Output:\", reconstruct_permutation(s)) # print output permutation"
   ]
  },
  {
   "attachments": {},
   "cell_type": "markdown",
   "metadata": {},
   "source": [
    "### Question - 2\n",
    "You are given an m x n integer matrix matrix with the following two properties:\n",
    "\n",
    "- Each row is sorted in non-decreasing order.\n",
    "- The first integer of each row is greater than the last integer of the previous row.\n",
    "\n",
    "Given an integer target, return true *if* target *is in* matrix *or* false *otherwise*.\n",
    "\n",
    "You must write a solution in O(log(m * n)) time complexity.\n",
    "\n",
    "**Example 1:**\n",
    "**Input:** matrix = [[1,3,5,7],[10,11,16,20],[23,30,34,60]], target = 3\n",
    "\n",
    "**Output:** true"
   ]
  },
  {
   "cell_type": "code",
   "execution_count": 2,
   "metadata": {},
   "outputs": [
    {
     "name": "stdout",
     "output_type": "stream",
     "text": [
      "Input:\n",
      "matrix = [[1, 3, 5, 7], [10, 11, 16, 20], [23, 30, 34, 60]]\n",
      "target = 3\n",
      "Output: True\n"
     ]
    }
   ],
   "source": [
    "def search_matrix(matrix, target):\n",
    "    # check if matrix is empty or has no columns\n",
    "    if not matrix or not matrix[0]:\n",
    "        return False\n",
    "\n",
    "    # initialize m as number of rows and n as number of columns\n",
    "    m, n = len(matrix), len(matrix[0])\n",
    "    # initialize left and right values for binary search\n",
    "    left, right = 0, m * n - 1\n",
    "\n",
    "    # binary search for target value\n",
    "    while left <= right:\n",
    "        mid = (left + right) // 2 # calculate midpoint\n",
    "        row = mid // n # calculate row index\n",
    "        col = mid % n # calculate column index\n",
    "        value = matrix[row][col] # retrieve value at this position\n",
    "\n",
    "        if value == target: # if value is equal to target\n",
    "            return True # return True\n",
    "        elif value < target: # if value is less than target\n",
    "            left = mid + 1 # update left value\n",
    "        else: # if value is greater than target\n",
    "            right = mid - 1 # update right value\n",
    "\n",
    "    return False # return False if target not found\n",
    "\n",
    "# take input from user\n",
    "rows = int(input(\"Enter number of rows: \"))\n",
    "cols = int(input(\"Enter number of columns: \"))\n",
    "matrix = []\n",
    "for i in range(rows):\n",
    "    row = list(map(int, input(f\"Enter row {i+1} (space-separated integers): \").split()))\n",
    "    matrix.append(row)\n",
    "target = int(input(\"Enter target value: \"))\n",
    "\n",
    "# print input taken from user\n",
    "print(\"Input:\")\n",
    "print(\"matrix =\", matrix)\n",
    "print(\"target =\", target)\n",
    "\n",
    "# print output\n",
    "print(\"Output:\", search_matrix(matrix, target))\n"
   ]
  },
  {
   "attachments": {},
   "cell_type": "markdown",
   "metadata": {},
   "source": [
    "### Question - 3\n",
    "Given an array of integers arr, return *true if and only if it is a valid mountain array*.\n",
    "\n",
    "Recall that arr is a mountain array if and only if:\n",
    "\n",
    "- arr.length >= 3\n",
    "- There exists some i with 0 < i < arr.length - 1 such that:\n",
    "    - arr[0] < arr[1] < ... < arr[i - 1] < arr[i]\n",
    "    - arr[i] > arr[i + 1] > ... > arr[arr.length - 1]\n",
    "**Example 1:**\n",
    "\n",
    "**Input:** arr = [2,1]\n",
    "\n",
    "**Output:**\n",
    "\n",
    "false"
   ]
  },
  {
   "cell_type": "code",
   "execution_count": 3,
   "metadata": {},
   "outputs": [
    {
     "name": "stdout",
     "output_type": "stream",
     "text": [
      "Input:\n",
      "arr = [2, 1]\n",
      "Output: False\n"
     ]
    }
   ],
   "source": [
    "def valid_mountain_array(arr):\n",
    "    n = len(arr) # length of input array\n",
    "    \n",
    "    # check if length of array is less than 3\n",
    "    if n < 3:\n",
    "        return False\n",
    "    \n",
    "    # initialize left and right pointers\n",
    "    left, right = 0, n - 1\n",
    "\n",
    "    # move left pointer to right until it reaches peak\n",
    "    while left + 1 < n and arr[left] < arr[left + 1]:\n",
    "        left += 1\n",
    "\n",
    "    # move right pointer to left until it reaches peak\n",
    "    while right > 0 and arr[right - 1] > arr[right]:\n",
    "        right -= 1\n",
    "\n",
    "    # check if left and right pointers have met at same index\n",
    "    # and that this index is not at either end of array\n",
    "    return left == right and left != 0 and right != n - 1\n",
    "\n",
    "# take input from user\n",
    "arr = list(map(int, input(\"Enter array (space-separated integers): \").split()))\n",
    "\n",
    "# print input taken from user\n",
    "print(\"Input:\")\n",
    "print(\"arr =\", arr)\n",
    "\n",
    "# print output\n",
    "print(\"Output:\", valid_mountain_array(arr))"
   ]
  },
  {
   "attachments": {},
   "cell_type": "markdown",
   "metadata": {},
   "source": [
    "### Question - 4\n",
    "Given a binary array nums, return *the maximum length of a contiguous subarray with an equal number of* 0 *and* 1.\n",
    "\n",
    "**Example 1:**\n",
    "\n",
    "**Input:** nums = [0,1]\n",
    "\n",
    "**Output:** 2\n",
    "\n",
    "**Explanation:**\n",
    "\n",
    "[0, 1] is the longest contiguous subarray with an equal number of 0 and 1."
   ]
  },
  {
   "cell_type": "code",
   "execution_count": 4,
   "metadata": {},
   "outputs": [
    {
     "name": "stdout",
     "output_type": "stream",
     "text": [
      "Input:\n",
      "nums = [0, 1]\n",
      "Output: 2\n"
     ]
    }
   ],
   "source": [
    "def find_max_length(nums):\n",
    "    max_length = 0 # initialize max_length as 0\n",
    "    running_sum = 0 # initialize running_sum as 0\n",
    "    sum_map = {0: -1} # initialize sum_map dictionary with key-value pair 0: -1\n",
    "\n",
    "    # iterate through each element in input array\n",
    "    for i in range(len(nums)):\n",
    "        # update running_sum by adding -1 if element is 0 or +1 if element is 1\n",
    "        running_sum += -1 if nums[i] == 0 else 1\n",
    "\n",
    "        # check if running_sum is already present in sum_map dictionary\n",
    "        if running_sum in sum_map:\n",
    "            # update max_length to be maximum of current value and difference between current index and first occurrence of running_sum\n",
    "            max_length = max(max_length, i - sum_map[running_sum])\n",
    "        else:\n",
    "            # add new key-value pair to sum_map dictionary with key running_sum and value i\n",
    "            sum_map[running_sum] = i\n",
    "\n",
    "    return max_length # return final value of max_length\n",
    "\n",
    "# take input from user\n",
    "nums = list(map(int, input(\"Enter binary array (space-separated 0s and 1s): \").split()))\n",
    "\n",
    "# print input taken from user\n",
    "print(\"Input:\")\n",
    "print(\"nums =\", nums)\n",
    "\n",
    "# print output\n",
    "print(\"Output:\", find_max_length(nums))"
   ]
  },
  {
   "attachments": {},
   "cell_type": "markdown",
   "metadata": {},
   "source": [
    "### Question - 5\n",
    "\n",
    "The **product sum** of two equal-length arrays a and b is equal to the sum of a[i] * b[i] for all 0 <= i < a.length (**0-indexed**).\n",
    "\n",
    "- For example, if a = [1,2,3,4] and b = [5,2,3,1], the **product sum** would be 1*5 + 2*2 + 3*3 + 4*1 = 22.\n",
    "\n",
    "Given two arrays nums1 and nums2 of length n, return *the **minimum product sum** if you are allowed to **rearrange** the **order** of the elements in* nums1.\n",
    "\n",
    "**Example 1:**\n",
    "\n",
    "**Input:** nums1 = [5,3,4,2], nums2 = [4,2,2,5]\n",
    "\n",
    "**Output:** 40\n",
    "\n",
    "**Explanation:**\n",
    "\n",
    "We can rearrange nums1 to become [3,5,4,2]. The product sum of [3,5,4,2] and [4,2,2,5] is 3*4 + 5*2 + 4*2 + 2*5 = 40."
   ]
  },
  {
   "cell_type": "code",
   "execution_count": 5,
   "metadata": {},
   "outputs": [
    {
     "name": "stdout",
     "output_type": "stream",
     "text": [
      "Input:\n",
      "nums1 = [5, 3, 4, 2]\n",
      "nums2 = [4, 2, 2, 5]\n",
      "Output: 40\n"
     ]
    }
   ],
   "source": [
    "def min_product_sum(nums1, nums2):\n",
    "    nums1.sort() # sort nums1 in non-decreasing order\n",
    "    nums2.sort(reverse=True) # sort nums2 in non-increasing order\n",
    "    product_sum = 0 # initialize product_sum as 0\n",
    "\n",
    "    # calculate product sum of nums1 and nums2\n",
    "    for i in range(len(nums1)):\n",
    "        product_sum += nums1[i] * nums2[i]\n",
    "\n",
    "    return product_sum # return final value of product_sum\n",
    "\n",
    "# take input from user\n",
    "n = int(input(\"Enter length of arrays: \"))\n",
    "nums1 = list(map(int, input(\"Enter first array (space-separated integers): \").split()))\n",
    "nums2 = list(map(int, input(\"Enter second array (space-separated integers): \").split()))\n",
    "\n",
    "# print input taken from user\n",
    "print(\"Input:\")\n",
    "print(\"nums1 =\", nums1)\n",
    "print(\"nums2 =\", nums2)\n",
    "\n",
    "# print output\n",
    "print(\"Output:\", min_product_sum(nums1, nums2))\n"
   ]
  },
  {
   "attachments": {},
   "cell_type": "markdown",
   "metadata": {},
   "source": [
    "### Question - 6\n",
    "An integer array original is transformed into a **doubled** array changed by appending **twice the value** of every element in original, and then randomly **shuffling** the resulting array.\n",
    "\n",
    "Given an array changed, return original *if* changed *is a **doubled** array. If* changed *is not a **doubled** array, return an empty array. The elements in* original *may be returned in **any** order*.\n",
    "\n",
    "**Example 1:**\n",
    "\n",
    "**Input:** changed = [1,3,4,2,6,8]\n",
    "\n",
    "**Output:** [1,3,4]\n",
    "\n",
    "**Explanation:** One possible original array could be [1,3,4]:\n",
    "\n",
    "- Twice the value of 1 is 1 * 2 = 2.\n",
    "- Twice the value of 3 is 3 * 2 = 6.\n",
    "- Twice the value of 4 is 4 * 2 = 8.\n",
    "\n",
    "Other original arrays could be [4,3,1] or [3,1,4]."
   ]
  },
  {
   "cell_type": "code",
   "execution_count": 6,
   "metadata": {},
   "outputs": [
    {
     "name": "stdout",
     "output_type": "stream",
     "text": [
      "Input:\n",
      "changed = [1, 3, 4, 2, 6, 8]\n",
      "Output: [1, 3, 4]\n"
     ]
    }
   ],
   "source": [
    "def findOriginalArray(changed):\n",
    "    # check if length of changed array is odd\n",
    "    if len(changed) % 2 != 0:\n",
    "        return [] # return empty array\n",
    "\n",
    "    count = {} # initialize count dictionary\n",
    "    changed.sort() # sort changed array\n",
    "\n",
    "    # update frequency count of each element in changed array\n",
    "    for num in changed:\n",
    "        if num not in count:\n",
    "            count[num] = 0\n",
    "        count[num] += 1\n",
    "\n",
    "    original = [] # initialize original list\n",
    "\n",
    "    # iterate through each element in sorted changed array\n",
    "    for num in changed:\n",
    "        # check if element is still present in count dictionary and has non-zero frequency count\n",
    "        if num not in count or count[num] == 0:\n",
    "            continue # skip this element\n",
    "        count[num] -= 1 # decrement frequency count of this element\n",
    "        # check if twice value of this element is present in count dictionary and has non-zero frequency count\n",
    "        if 2 * num not in count or count[2 * num] == 0:\n",
    "            return [] # return empty array\n",
    "        count[2 * num] -= 1 # decrement frequency count of twice value of this element\n",
    "        original.append(num) # append this element to original list\n",
    "\n",
    "    return original # return final value of original\n",
    "\n",
    "# take input from user\n",
    "changed = list(map(int, input(\"Enter changed array (space-separated integers): \").split()))\n",
    "\n",
    "# print input taken from user\n",
    "print(\"Input:\")\n",
    "print(\"changed =\", changed)\n",
    "\n",
    "# print output\n",
    "print(\"Output:\", findOriginalArray(changed))\n",
    "\n"
   ]
  },
  {
   "attachments": {},
   "cell_type": "markdown",
   "metadata": {},
   "source": [
    "### Question - 7\n",
    "Given a positive integer n, generate an n x n matrix filled with elements from 1 to n2 in spiral order.\n",
    "\n",
    "**Example 1:**\n",
    "**Input:** n = 3\n",
    "\n",
    "**Output:** [[1,2,3],[8,9,4],[7,6,5]]"
   ]
  },
  {
   "cell_type": "code",
   "execution_count": 8,
   "metadata": {},
   "outputs": [
    {
     "name": "stdout",
     "output_type": "stream",
     "text": [
      "Input : n : 3\n",
      "[[1, 2, 3], [8, 9, 4], [7, 6, 5]]\n"
     ]
    }
   ],
   "source": [
    "def generateMatrix(n):\n",
    "    matrix = [[0] * n for _ in range(n)] # create an empty n x n matrix\n",
    "    left, right, top, bottom = 0, n - 1, 0, n - 1 # initialize the boundaries of the matrix\n",
    "    num, direction = 1, 0 # initialize the starting number and direction\n",
    "\n",
    "    while num <= n * n: # loop until all numbers are filled in the matrix\n",
    "        if direction == 0:  # move right\n",
    "            for col in range(left, right + 1):\n",
    "                matrix[top][col] = num\n",
    "                num += 1\n",
    "            top += 1\n",
    "        elif direction == 1:  # move down\n",
    "            for row in range(top, bottom + 1):\n",
    "                matrix[row][right] = num\n",
    "                num += 1\n",
    "            right -= 1\n",
    "        elif direction == 2:  # move left\n",
    "            for col in range(right, left - 1, -1):\n",
    "                matrix[bottom][col] = num\n",
    "                num += 1\n",
    "            bottom -= 1\n",
    "        elif direction == 3:  # move up\n",
    "            for row in range(bottom, top - 1, -1):\n",
    "                matrix[row][left] = num\n",
    "                num += 1\n",
    "            left += 1\n",
    "        direction = (direction + 1) % 4 # change direction\n",
    "\n",
    "    return matrix\n",
    "\n",
    "n = int(input('Enter a positive integer: ')) # take input from user\n",
    "print(f\"Input : n : {n}\")\n",
    "\n",
    "result = generateMatrix(n)\n",
    "print(result)\n"
   ]
  },
  {
   "attachments": {},
   "cell_type": "markdown",
   "metadata": {},
   "source": [
    "### Question - 8\n",
    "Given two [sparse matrices](https://en.wikipedia.org/wiki/Sparse_matrix) mat1 of size m x k and mat2 of size k x n, return the result of mat1 x mat2. You may assume that multiplication is always possible.\n",
    "\n",
    "**Example 1:**\n",
    "\n",
    "**Input:** mat1 = [[1,0,0],[-1,0,3]], mat2 = [[7,0,0],[0,0,0],[0,0,1]]\n",
    "\n",
    "**Output:**\n",
    "\n",
    "[[7,0,0],[-7,0,3]]"
   ]
  },
  {
   "cell_type": "code",
   "execution_count": 10,
   "metadata": {},
   "outputs": [
    {
     "name": "stdout",
     "output_type": "stream",
     "text": [
      "Input : mat1 : [[1, 0, 0], [-1, 0, 3]]\n",
      "Input : mat2 : [[7, 0, 0], [0, 0, 0], [0, 0, 1]]\n",
      "Output : [[7, 0, 0], [-7, 0, 3]]\n"
     ]
    }
   ],
   "source": [
    "def multiply(mat1, mat2):\n",
    "    m = len(mat1)\n",
    "    k = len(mat1[0])\n",
    "    n = len(mat2[0])\n",
    "\n",
    "    result = [[0] * n for _ in range(m)] # create an empty result matrix\n",
    "\n",
    "    for i in range(m):\n",
    "        for j in range(k):\n",
    "            if mat1[i][j] != 0: # check if element in mat1 is non-zero\n",
    "                for l in range(n):\n",
    "                    if mat2[j][l] != 0: # check if element in mat2 is non-zero\n",
    "                        result[i][l] += mat1[i][j] * mat2[j][l] # update result matrix\n",
    "\n",
    "    return result\n",
    "\n",
    "# take input from user\n",
    "m = int(input('Enter number of rows in mat1: '))\n",
    "k = int(input('Enter number of columns in mat1: '))\n",
    "mat1 = []\n",
    "for i in range(m):\n",
    "    row = list(map(int, input(f'Enter row {i+1} of mat1: ').split()))\n",
    "    mat1.append(row)\n",
    "print(f\"Input : mat1 : {mat1}\")\n",
    "\n",
    "n = int(input('Enter number of columns in mat2: '))\n",
    "mat2 = []\n",
    "for i in range(k):\n",
    "    row = list(map(int, input(f'Enter row {i+1} of mat2: ').split()))\n",
    "    mat2.append(row)\n",
    "print(f\"Input : mat2 : {mat2}\")\n",
    "\n",
    "result = multiply(mat1, mat2)\n",
    "\n",
    "print(f\"Output : {result}\")\n"
   ]
  }
 ],
 "metadata": {
  "kernelspec": {
   "display_name": "Python 3",
   "language": "python",
   "name": "python3"
  },
  "language_info": {
   "codemirror_mode": {
    "name": "ipython",
    "version": 3
   },
   "file_extension": ".py",
   "mimetype": "text/x-python",
   "name": "python",
   "nbconvert_exporter": "python",
   "pygments_lexer": "ipython3",
   "version": "3.10.2"
  },
  "orig_nbformat": 4
 },
 "nbformat": 4,
 "nbformat_minor": 2
}
