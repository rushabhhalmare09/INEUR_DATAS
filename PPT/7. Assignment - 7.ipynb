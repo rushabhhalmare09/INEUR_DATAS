{
 "cells": [
  {
   "attachments": {},
   "cell_type": "markdown",
   "metadata": {},
   "source": [
    "### Question - 1\n",
    "Given two strings s and t, *determine if they are isomorphic*.\n",
    "\n",
    "Two strings s and t are isomorphic if the characters in s can be replaced to get t.\n",
    "\n",
    "All occurrences of a character must be replaced with another character while preserving the order of characters. No two characters may map to the same character, but a character may map to itself.\n",
    "\n",
    "**Example 1:**\n",
    "\n",
    "**Input:** s = \"egg\", t = \"add\"\n",
    "\n",
    "**Output:** true"
   ]
  },
  {
   "cell_type": "code",
   "execution_count": 13,
   "metadata": {},
   "outputs": [
    {
     "name": "stdout",
     "output_type": "stream",
     "text": [
      "Input: \n",
      "s : egg\n",
      "t : add \n",
      "\n",
      "Output: True\n"
     ]
    }
   ],
   "source": [
    "def isIsomorphic(s: str, t: str) -> bool:\n",
    "    if len(s) != len(t):\n",
    "        return False\n",
    "\n",
    "    s_map = [-1] * 256\n",
    "    t_map = [-1] * 256\n",
    "\n",
    "    for i in range(len(s)):\n",
    "        s_char = s[i]\n",
    "        t_char = t[i]\n",
    "\n",
    "        if s_map[ord(s_char)] != t_map[ord(t_char)]:\n",
    "            return False\n",
    "\n",
    "        s_map[ord(s_char)] = i\n",
    "        t_map[ord(t_char)] = i\n",
    "\n",
    "    return True\n",
    "\n",
    "s = \"egg\"\n",
    "t = \"add\"\n",
    "\n",
    "print(f\"Input: \")\n",
    "print(f\"s : {s}\")\n",
    "print(f\"t : {t} \\n\")\n",
    "\n",
    "res = isIsomorphic(s, t)\n",
    "\n",
    "print(f\"Output: {res}\")\n",
    "\n"
   ]
  },
  {
   "attachments": {},
   "cell_type": "markdown",
   "metadata": {},
   "source": [
    "### Question - 2\n",
    "Given a string num which represents an integer, return true *if* num *is a **strobogrammatic number***.\n",
    "\n",
    "A **strobogrammatic number** is a number that looks the same when rotated 180 degrees (looked at upside down).\n",
    "\n",
    "**Example 1:**\n",
    "\n",
    "**Input:** num = \"69\"\n",
    "\n",
    "**Output:**\n",
    "\n",
    "true"
   ]
  },
  {
   "cell_type": "code",
   "execution_count": 14,
   "metadata": {},
   "outputs": [
    {
     "name": "stdout",
     "output_type": "stream",
     "text": [
      "Input: \n",
      "num : 69 \n",
      "\n",
      "Output: True\n"
     ]
    }
   ],
   "source": [
    "def isStrobogrammatic(num: str) -> bool:\n",
    "    strobogrammatic_digits = {'0', '1', '6', '8', '9'}\n",
    "    left, right = 0, len(num) - 1\n",
    "\n",
    "    while left <= right:\n",
    "        if num[left] not in strobogrammatic_digits or num[left] != num[right] and (num[left] != '6' or num[right] != '9') and (num[left] != '9' or num[right] != '6'):\n",
    "            return False\n",
    "        left += 1\n",
    "        right -= 1\n",
    "\n",
    "    return True\n",
    "num = \"69\"\n",
    "\n",
    "print(f\"Input: \")\n",
    "print(f\"num : {num} \\n\")\n",
    "\n",
    "res = isStrobogrammatic(num)\n",
    "print(f\"Output: {res}\")"
   ]
  },
  {
   "attachments": {},
   "cell_type": "markdown",
   "metadata": {},
   "source": [
    "### Question - 3\n",
    "Given two non-negative integers, num1 and num2 represented as string, return *the sum of* num1 *and* num2 *as a string*.\n",
    "\n",
    "You must solve the problem without using any built-in library for handling large integers (such as BigInteger). You must also not convert the inputs to integers directly.\n",
    "\n",
    "**Example 1:**\n",
    "\n",
    "**Input:** num1 = \"11\", num2 = \"123\"\n",
    "\n",
    "**Output:**\n",
    "\n",
    "\"134\"\n"
   ]
  },
  {
   "cell_type": "code",
   "execution_count": 16,
   "metadata": {},
   "outputs": [
    {
     "name": "stdout",
     "output_type": "stream",
     "text": [
      "Input: \n",
      "num1 : 11\n",
      "num2 : 123 \n",
      "\n",
      "Output: 134\n"
     ]
    }
   ],
   "source": [
    "def addStrings(num1: str, num2: str) -> str:\n",
    "    p1, p2 = len(num1) - 1, len(num2) - 1\n",
    "    carry = 0\n",
    "    result = \"\"\n",
    "\n",
    "    while p1 >= 0 or p2 >= 0:\n",
    "        x = ord(num1[p1]) - ord('0') if p1 >= 0 else 0\n",
    "        y = ord(num2[p2]) - ord('0') if p2 >= 0 else 0\n",
    "        s = x + y + carry\n",
    "        result = str(s % 10) + result\n",
    "        carry = s // 10\n",
    "        p1 -= 1\n",
    "        p2 -= 1\n",
    "\n",
    "    if carry:\n",
    "        result = str(carry) + result\n",
    "\n",
    "    return result\n",
    "\n",
    "print(f\"Input: \")\n",
    "num1 = \"11\"\n",
    "num2 = \"123\"\n",
    "\n",
    "print(f\"num1 : {num1}\")\n",
    "print(f\"num2 : {num2} \\n\")\n",
    "\n",
    "res = addStrings(num1, num2) \n",
    "print(f\"Output: {res}\")"
   ]
  },
  {
   "attachments": {},
   "cell_type": "markdown",
   "metadata": {},
   "source": [
    "### Question - 4\n",
    "Given a string s, reverse the order of characters in each word within a sentence while still preserving whitespace and initial word order.\n",
    "\n",
    "**Example 1:**\n",
    "\n",
    "**Input:** s = \"Let's take LeetCode contest\"\n",
    "\n",
    "**Output:** \"s'teL ekat edoCteeL tsetnoc\""
   ]
  },
  {
   "cell_type": "code",
   "execution_count": 17,
   "metadata": {},
   "outputs": [
    {
     "name": "stdout",
     "output_type": "stream",
     "text": [
      "Input: \n",
      "s : Let's take LeetCode contest\n",
      "Output: s'teL ekat edoCteeL tsetnoc\n"
     ]
    }
   ],
   "source": [
    "def reverseWords(s: str) -> str:\n",
    "    chars = list(s)\n",
    "    start = 0\n",
    "    end = 0\n",
    "\n",
    "    while end < len(chars):\n",
    "        if chars[end] == ' ':\n",
    "            reverseWord(chars, start, end - 1)\n",
    "            start = end + 1\n",
    "            end = start\n",
    "        else:\n",
    "            end += 1\n",
    "\n",
    "    # Reverse the last word if it exists\n",
    "    reverseWord(chars, start, end - 1)\n",
    "\n",
    "    return ''.join(chars)\n",
    "\n",
    "\n",
    "def reverseWord(chars, start, end):\n",
    "    while start < end:\n",
    "        chars[start], chars[end] = chars[end], chars[start]\n",
    "        start += 1\n",
    "        end -= 1\n",
    "s = \"Let's take LeetCode contest\"\n",
    "print(f\"Input: \")\n",
    "print(f\"s : {s}\")\n",
    "\n",
    "res = reverseWords(s)\n",
    "print(f\"Output: {res}\")"
   ]
  },
  {
   "attachments": {},
   "cell_type": "markdown",
   "metadata": {},
   "source": [
    "### Question - 5\n",
    "Given a string s and an integer k, reverse the first k characters for every 2k characters counting from the start of the string.\n",
    "\n",
    "If there are fewer than k characters left, reverse all of them. If there are less than 2k but greater than or equal to k characters, then reverse the first k characters and leave the other as original.\n",
    "\n",
    "**Example 1:**\n",
    "\n",
    "**Input:** s = \"abcdefg\", k = 2\n",
    "\n",
    "**Output:**\n",
    "\n",
    "\"bacdfeg\"\n"
   ]
  },
  {
   "cell_type": "code",
   "execution_count": 18,
   "metadata": {},
   "outputs": [
    {
     "name": "stdout",
     "output_type": "stream",
     "text": [
      "Input: \n",
      "s : abcdefg\n",
      "k : 2\n",
      "\n",
      "Output: bacdfeg\n"
     ]
    }
   ],
   "source": [
    "def reverseStr(s: str, k: int) -> str:\n",
    "    chars = list(s)\n",
    "    n = len(chars)\n",
    "\n",
    "    for i in range(0, n, 2 * k):\n",
    "        left = i\n",
    "        right = min(i + k - 1, n - 1)\n",
    "        while left < right:\n",
    "            chars[left], chars[right] = chars[right], chars[left]\n",
    "            left += 1\n",
    "            right -= 1\n",
    "\n",
    "    return ''.join(chars)\n",
    "s = \"abcdefg\"\n",
    "k = 2\n",
    "\n",
    "print(f\"Input: \")\n",
    "print(f\"s : {s}\")\n",
    "print(f\"k : {k}\\n\")\n",
    "\n",
    "res = reverseStr(s, k)\n",
    "print(f\"Output: {res}\")\n"
   ]
  },
  {
   "attachments": {},
   "cell_type": "markdown",
   "metadata": {},
   "source": [
    "### Question - 6\n",
    "Given two strings s and goal, return true *if and only if* s *can become* goal *after some number of **shifts** on* s.\n",
    "\n",
    "A **shift** on s consists of moving the leftmost character of s to the rightmost position.\n",
    "\n",
    "- For example, if s = \"abcde\", then it will be \"bcdea\" after one shift.\n",
    "\n",
    "**Example 1:**\n",
    "\n",
    "**Input:** s = \"abcde\", goal = \"cdeab\"\n",
    "\n",
    "**Output:**\n",
    "\n",
    "true"
   ]
  },
  {
   "cell_type": "code",
   "execution_count": 19,
   "metadata": {},
   "outputs": [
    {
     "name": "stdout",
     "output_type": "stream",
     "text": [
      "Input: \n",
      "s : abcde\n",
      "goal : cdeab\n",
      "\n",
      "Output: True\n"
     ]
    }
   ],
   "source": [
    "def rotateString(s: str, goal: str) -> bool:\n",
    "    if len(s) != len(goal):\n",
    "        return False\n",
    "\n",
    "    s_double = s + s\n",
    "\n",
    "    return goal in s_double\n",
    "s = \"abcde\"\n",
    "goal = \"cdeab\"\n",
    "\n",
    "print(f\"Input: \")\n",
    "print(f\"s : {s}\")\n",
    "print(f\"goal : {goal}\\n\")\n",
    "\n",
    "res = rotateString(s, goal)\n",
    "print(f\"Output: {res}\")"
   ]
  },
  {
   "attachments": {},
   "cell_type": "markdown",
   "metadata": {},
   "source": [
    "### Question - 7\n",
    "Given two strings s and t, return true *if they are equal when both are typed into empty text editors*. '#' means a backspace character.\n",
    "\n",
    "Note that after backspacing an empty text, the text will continue empty.\n",
    "\n",
    "**Example 1:**\n",
    "\n",
    "**Input:** s = \"ab#c\", t = \"ad#c\"\n",
    "\n",
    "**Output:** true\n",
    "\n",
    "**Explanation:**\n",
    "\n",
    "Both s and t become \"ac\"."
   ]
  },
  {
   "cell_type": "code",
   "execution_count": 20,
   "metadata": {},
   "outputs": [
    {
     "name": "stdout",
     "output_type": "stream",
     "text": [
      "Input: \n",
      "s : ab#c\n",
      "t : ad#c\n",
      "\n",
      "Output: True\n"
     ]
    }
   ],
   "source": [
    "def backspaceCompare(s: str, t: str) -> bool:\n",
    "    p1 = len(s) - 1\n",
    "    p2 = len(t) - 1\n",
    "    skip_s = 0\n",
    "    skip_t = 0\n",
    "\n",
    "    while p1 >= 0 or p2 >= 0:\n",
    "        while p1 >= 0:\n",
    "            if s[p1] == '#':\n",
    "                skip_s += 1\n",
    "                p1 -= 1\n",
    "            elif skip_s > 0:\n",
    "                skip_s -= 1\n",
    "                p1 -= 1\n",
    "            else:\n",
    "                break\n",
    "\n",
    "        while p2 >= 0:\n",
    "            if t[p2] == '#':\n",
    "                skip_t += 1\n",
    "                p2 -= 1\n",
    "            elif skip_t > 0:\n",
    "                skip_t -= 1\n",
    "                p2 -= 1\n",
    "            else:\n",
    "                break\n",
    "\n",
    "        if p1 >= 0 and p2 >= 0 and s[p1] != t[p2]:\n",
    "            return False\n",
    "\n",
    "        p1 -= 1\n",
    "        p2 -= 1\n",
    "\n",
    "    return True\n",
    "s = \"ab#c\"\n",
    "t = \"ad#c\"\n",
    "\n",
    "print(f\"Input: \")\n",
    "print(f\"s : {s}\")\n",
    "print(f\"t : {t}\\n\")\n",
    "\n",
    "res = backspaceCompare(s, t)\n",
    "print(f\"Output: {res}\")\n",
    "\n"
   ]
  },
  {
   "attachments": {},
   "cell_type": "markdown",
   "metadata": {},
   "source": [
    "### Question - 8\n",
    "You are given an array coordinates, coordinates[i] = [x, y], where [x, y] represents the coordinate of a point. Check if these points make a straight line in the XY plane.\n",
    "\n",
    "**Example 1:**\n",
    "**Input:** coordinates = [[1,2],[2,3],[3,4],[4,5],[5,6],[6,7]]\n",
    "\n",
    "**Output:** true"
   ]
  },
  {
   "cell_type": "code",
   "execution_count": 21,
   "metadata": {},
   "outputs": [
    {
     "name": "stdout",
     "output_type": "stream",
     "text": [
      "Input: \n",
      "coordinates : [[1, 2], [2, 3], [3, 4], [4, 5], [5, 6], [6, 7]]\n",
      "Output: True\n"
     ]
    }
   ],
   "source": [
    "def checkStraightLine(coordinates: list[list[int]]) -> bool:\n",
    "    if len(coordinates) <= 2:\n",
    "        return True\n",
    "\n",
    "    dy1 = coordinates[1][1] - coordinates[0][1]\n",
    "    dx1 = coordinates[1][0] - coordinates[0][0]\n",
    "\n",
    "    for i in range(2, len(coordinates)):\n",
    "        dy2 = coordinates[i][1] - coordinates[i-1][1]\n",
    "        dx2 = coordinates[i][0] - coordinates[i-1][0]\n",
    "\n",
    "        if dy1 * dx2 != dy2 * dx1:\n",
    "            return False\n",
    "\n",
    "    return True\n",
    "coordinates = [[1,2],[2,3],[3,4],[4,5],[5,6],[6,7]]\n",
    "\n",
    "print(f\"Input: \")\n",
    "print(f\"coordinates : {coordinates}\")\n",
    "\n",
    "res = checkStraightLine(coordinates)\n",
    "print(f\"Output: {res}\")\n",
    "\n"
   ]
  }
 ],
 "metadata": {
  "kernelspec": {
   "display_name": "Python 3",
   "language": "python",
   "name": "python3"
  },
  "language_info": {
   "codemirror_mode": {
    "name": "ipython",
    "version": 3
   },
   "file_extension": ".py",
   "mimetype": "text/x-python",
   "name": "python",
   "nbconvert_exporter": "python",
   "pygments_lexer": "ipython3",
   "version": "3.10.2"
  },
  "orig_nbformat": 4
 },
 "nbformat": 4,
 "nbformat_minor": 2
}
