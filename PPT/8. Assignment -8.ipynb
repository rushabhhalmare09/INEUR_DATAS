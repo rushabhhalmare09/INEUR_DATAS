{
 "cells": [
  {
   "attachments": {},
   "cell_type": "markdown",
   "metadata": {},
   "source": [
    "### Question - 1\n",
    "Given two strings s1 and s2, return *the lowest **ASCII** sum of deleted characters to make two strings equal*.\n",
    "\n",
    "**Example 1:**\n",
    "\n",
    "**Input:** s1 = \"sea\", s2 = \"eat\"\n",
    "\n",
    "**Output:** 231\n",
    "\n",
    "**Explanation:** Deleting \"s\" from \"sea\" adds the ASCII value of \"s\" (115) to the sum.\n",
    "\n",
    "Deleting \"t\" from \"eat\" adds 116 to the sum.\n",
    "\n",
    "At the end, both strings are equal, and 115 + 116 = 231 is the minimum sum possible to achieve this."
   ]
  },
  {
   "cell_type": "code",
   "execution_count": 1,
   "metadata": {},
   "outputs": [
    {
     "name": "stdout",
     "output_type": "stream",
     "text": [
      "s1 : sea\n",
      "s2 : eat\n",
      "Output : 231\n"
     ]
    }
   ],
   "source": [
    "def minimumDeleteSum(s1, s2):\n",
    "    m, n = len(s1), len(s2)\n",
    "    if m < n:\n",
    "        s1, s2, m, n = s2, s1, n, m\n",
    "    dp = [0] * (n+1)\n",
    "    for j in range(n-1, -1, -1):\n",
    "        dp[j] = dp[j+1] + ord(s2[j])\n",
    "    for i in range(m-1, -1, -1):\n",
    "        prev = dp[n]  \n",
    "        dp[n] += ord(s1[i])  \n",
    "\n",
    "        for j in range(n-1, -1, -1):\n",
    "            if s1[i] == s2[j]:\n",
    "                curr = dp[j]  \n",
    "                dp[j] = prev  \n",
    "                prev = curr \n",
    "            else:\n",
    "                curr = dp[j] \n",
    "                dp[j] = min(dp[j] + ord(s1[i]), dp[j+1] + ord(s2[j])) \n",
    "                prev = curr\n",
    "\n",
    "    return dp[0]\n",
    "\n",
    "# DRIVER CODE\n",
    "s1 = \"sea\"\n",
    "print(f\"s1 : {s1}\")\n",
    "\n",
    "s2 = \"eat\"\n",
    "print(f\"s2 : {s2}\")\n",
    "\n",
    "result = minimumDeleteSum(s1, s2)\n",
    "print(f\"Output : {result}\") "
   ]
  },
  {
   "attachments": {},
   "cell_type": "markdown",
   "metadata": {},
   "source": [
    "### Question - 2\n",
    "Given a string s containing only three types of characters: '(', ')' and '*', return true *if* s *is **valid***.\n",
    "\n",
    "The following rules define a **valid** string:\n",
    "\n",
    "- Any left parenthesis '(' must have a corresponding right parenthesis ')'.\n",
    "- Any right parenthesis ')' must have a corresponding left parenthesis '('.\n",
    "- Left parenthesis '(' must go before the corresponding right parenthesis ')'.\n",
    "- '*' could be treated as a single right parenthesis ')' or a single left parenthesis '(' or an empty string \"\".\n",
    "\n",
    "**Example 1:**\n",
    "\n",
    "**Input:** s = \"()\"\n",
    "\n",
    "**Output:**\n",
    "\n",
    "true"
   ]
  },
  {
   "cell_type": "code",
   "execution_count": 2,
   "metadata": {},
   "outputs": [
    {
     "name": "stdout",
     "output_type": "stream",
     "text": [
      "s2 : ()\n",
      "Output : True\n"
     ]
    }
   ],
   "source": [
    "def isValid(s):\n",
    "    minOpen = maxOpen = 0\n",
    "    for char in s:\n",
    "        if char == '(':\n",
    "            minOpen += 1\n",
    "            maxOpen += 1\n",
    "        elif char == ')':\n",
    "            minOpen = max(minOpen - 1, 0)\n",
    "            maxOpen -= 1\n",
    "            if maxOpen < 0:\n",
    "                return False\n",
    "        elif char == '*':\n",
    "            minOpen = max(minOpen - 1, 0)\n",
    "            maxOpen += 1\n",
    "\n",
    "    return minOpen == 0\n",
    "\n",
    "# DRIVER CODE\n",
    "s = \"()\"\n",
    "print(f\"s2 : {s}\")\n",
    "\n",
    "result = isValid(s)\n",
    "print(f\"Output : {result}\")"
   ]
  },
  {
   "attachments": {},
   "cell_type": "markdown",
   "metadata": {},
   "source": [
    "### Question - 3\n",
    "Given two strings word1 and word2, return *the minimum number of **steps** required to make* word1 *and* word2 *the same*.\n",
    "\n",
    "In one **step**, you can delete exactly one character in either string.\n",
    "\n",
    "**Example 1:**\n",
    "\n",
    "**Input:** word1 = \"sea\", word2 = \"eat\"\n",
    "\n",
    "**Output:** 2\n",
    "\n",
    "**Explanation:** You need one step to make \"sea\" to \"ea\" and another step to make \"eat\" to \"ea\"."
   ]
  },
  {
   "cell_type": "code",
   "execution_count": 3,
   "metadata": {},
   "outputs": [
    {
     "name": "stdout",
     "output_type": "stream",
     "text": [
      "word1 : sea\n",
      "word2 : eat\n",
      "Output : 2\n"
     ]
    }
   ],
   "source": [
    "def minSteps(word1, word2):\n",
    "    m, n = len(word1), len(word2)\n",
    "\n",
    "    if m < n:\n",
    "        word1, word2, m, n = word2, word1, n, m\n",
    "\n",
    "    dp = [0] * (n+1)\n",
    "\n",
    "    for j in range(n-1, -1, -1):\n",
    "        dp[j] = dp[j+1] + 1\n",
    "\n",
    "    for i in range(m-1, -1, -1):\n",
    "        prev = dp[n] \n",
    "        dp[n] += 1 \n",
    "\n",
    "        for j in range(n-1, -1, -1):\n",
    "            if word1[i] == word2[j]:\n",
    "                curr = dp[j] \n",
    "                dp[j] = prev \n",
    "                prev = curr \n",
    "            else:\n",
    "                curr = dp[j] \n",
    "                dp[j] = min(dp[j], dp[j+1]) + 1 \n",
    "                prev = curr \n",
    "\n",
    "    return dp[0]\n",
    "\n",
    "# DRIVER CODE\n",
    "word1 = \"sea\"\n",
    "print(f\"word1 : {word1}\")\n",
    "\n",
    "word2 = \"eat\"\n",
    "print(f\"word2 : {word2}\")\n",
    "\n",
    "result = minSteps(word1, word2)\n",
    "print(f\"Output : {result}\")  "
   ]
  },
  {
   "attachments": {},
   "cell_type": "markdown",
   "metadata": {},
   "source": [
    "### Question - 4\n",
    "You need to construct a binary tree from a string consisting of parenthesis and integers.\n",
    "\n",
    "The whole input represents a binary tree. It contains an integer followed by zero, one or two pairs of parenthesis. The integer represents the root's value and a pair of parenthesis contains a child binary tree with the same structure.\n",
    "You always start to construct the **left** child node of the parent first if it exists.\n",
    "<aside>\n",
    "💡 **Question 4**\n",
    "\n",
    "You need to construct a binary tree from a string consisting of parenthesis and integers.\n",
    "\n",
    "The whole input represents a binary tree. It contains an integer followed by zero, one or two pairs of parenthesis. The integer represents the root's value and a pair of parenthesis contains a child binary tree with the same structure.\n",
    "You always start to construct the **left** child node of the parent first if it exists.\n",
    "\n",
    "**Input:** s = \"4(2(3)(1))(6(5))\"\n",
    "\n",
    "**Output:** [4,2,6,3,1,5]\n",
    "\n",
    "</aside>"
   ]
  },
  {
   "cell_type": "code",
   "execution_count": 4,
   "metadata": {},
   "outputs": [
    {
     "name": "stdout",
     "output_type": "stream",
     "text": [
      "S : 4(2(3)(1))(6(5))\n",
      "Output : <__main__.TreeNode object at 0x11167e050>\n"
     ]
    }
   ],
   "source": [
    "class TreeNode:\n",
    "    def __init__(self, val=0, left=None, right=None):\n",
    "        self.val = val\n",
    "        self.left = left\n",
    "        self.right = right\n",
    "\n",
    "def constructTreeFromString(s):\n",
    "    if not s:\n",
    "        return None\n",
    "    i = 0\n",
    "    def constructSubtree(s, i):\n",
    "        if i >= len(s) or not s[i].isdigit():\n",
    "            return None\n",
    "\n",
    "        num = 0\n",
    "        while i < len(s) and s[i].isdigit():\n",
    "            num = num * 10 + int(s[i])\n",
    "            i += 1\n",
    "\n",
    "        node = TreeNode(num)\n",
    "        node.left = constructSubtree(s, i + 1)\n",
    "        node.right = constructSubtree(s, i + 1)\n",
    "\n",
    "        return node\n",
    "\n",
    "    return constructSubtree(s, i)\n",
    "\n",
    "# DRIVER CODE\n",
    "s = \"4(2(3)(1))(6(5))\"\n",
    "print(f\"S : {s}\")\n",
    "\n",
    "result = constructTreeFromString(s)\n",
    "print(f\"Output : {result}\")\n"
   ]
  },
  {
   "attachments": {},
   "cell_type": "markdown",
   "metadata": {},
   "source": [
    "### Question - 5\n",
    "Given an array of characters chars, compress it using the following algorithm:\n",
    "\n",
    "Begin with an empty string s. For each group of **consecutive repeating characters** in chars:\n",
    "\n",
    "- If the group's length is 1, append the character to s.\n",
    "- Otherwise, append the character followed by the group's length.\n",
    "\n",
    "The compressed string s **should not be returned separately**, but instead, be stored **in the input character array chars**. Note that group lengths that are 10 or longer will be split into multiple characters in chars.\n",
    "\n",
    "After you are done **modifying the input array,** return *the new length of the array*.\n",
    "\n",
    "You must write an algorithm that uses only constant extra space.\n",
    "\n",
    "**Example 1:**\n",
    "\n",
    "**Input:** chars = [\"a\",\"a\",\"b\",\"b\",\"c\",\"c\",\"c\"]\n",
    "\n",
    "**Output:** Return 6, and the first 6 characters of the input array should be: [\"a\",\"2\",\"b\",\"2\",\"c\",\"3\"]\n",
    "\n",
    "**Explanation:**\n",
    "\n",
    "The groups are \"aa\", \"bb\", and \"ccc\". This compresses to \"a2b2c3\"."
   ]
  },
  {
   "cell_type": "code",
   "execution_count": 5,
   "metadata": {},
   "outputs": [
    {
     "name": "stdout",
     "output_type": "stream",
     "text": [
      "chars : ['a', 'a', 'b', 'b', 'c', 'c', 'c']\n",
      "Output : 6\n"
     ]
    }
   ],
   "source": [
    "def compress(chars):\n",
    "    write = 0\n",
    "    read = 0\n",
    "    count = 1\n",
    "\n",
    "    while read < len(chars):\n",
    "        if read + 1 == len(chars) or chars[read] != chars[read + 1]:\n",
    "            chars[write] = chars[read]\n",
    "            write += 1\n",
    "            if count > 1:\n",
    "                count_str = str(count)\n",
    "                for digit in count_str:\n",
    "                    chars[write] = digit\n",
    "                    write += 1\n",
    "            count = 1\n",
    "        else:\n",
    "            count += 1\n",
    "        read += 1\n",
    "    return write\n",
    "\n",
    "# DRIVER CODE\n",
    "chars = [\"a\",\"a\",\"b\",\"b\",\"c\",\"c\",\"c\"]\n",
    "print(f\"chars : {chars}\")\n",
    "\n",
    "result = compress(chars)\n",
    "print(f\"Output : {result}\")"
   ]
  },
  {
   "attachments": {},
   "cell_type": "markdown",
   "metadata": {},
   "source": [
    "### Question - 6\n",
    "Given two strings s and p, return *an array of all the start indices of* p*'s anagrams in* s. You may return the answer in **any order**.\n",
    "\n",
    "An **Anagram** is a word or phrase formed by rearranging the letters of a different word or phrase, typically using all the original letters exactly once.\n",
    "\n",
    "**Example 1:**\n",
    "\n",
    "**Input:** s = \"cbaebabacd\", p = \"abc\"\n",
    "\n",
    "**Output:** [0,6]\n",
    "\n",
    "**Explanation:**\n",
    "\n",
    "The substring with start index = 0 is \"cba\", which is an anagram of \"abc\".\n",
    "\n",
    "The substring with start index = 6 is \"bac\", which is an anagram of \"abc\"."
   ]
  },
  {
   "cell_type": "code",
   "execution_count": 6,
   "metadata": {},
   "outputs": [
    {
     "name": "stdout",
     "output_type": "stream",
     "text": [
      "s : cbaebabacd\n",
      "p : abc\n",
      "Output : [0, 6]\n"
     ]
    }
   ],
   "source": [
    "def findAnagrams(s, p):\n",
    "    pFreq = {}\n",
    "    sFreq = {}\n",
    "    res = []\n",
    "\n",
    "    for char in p:\n",
    "        pFreq[char] = pFreq.get(char, 0) + 1\n",
    "\n",
    "    left = 0\n",
    "    right = 0\n",
    "    windowSize = len(p)\n",
    "\n",
    "    while right < len(s):\n",
    "        sFreq[s[right]] = sFreq.get(s[right], 0) + 1\n",
    "\n",
    "        if right - left + 1 > windowSize:\n",
    "            sFreq[s[left]] -= 1\n",
    "            if sFreq[s[left]] == 0:\n",
    "                del sFreq[s[left]]\n",
    "            left += 1\n",
    "\n",
    "        if sFreq == pFreq:\n",
    "            res.append(left)\n",
    "\n",
    "        right += 1\n",
    "\n",
    "    return res\n",
    "\n",
    "# DRIVER CODE\n",
    "s = \"cbaebabacd\"\n",
    "p = \"abc\"\n",
    "\n",
    "print(f\"s : {s}\")\n",
    "print(f\"p : {p}\")\n",
    "\n",
    "result = findAnagrams(s, p)\n",
    "print(f\"Output : {result}\")"
   ]
  },
  {
   "attachments": {},
   "cell_type": "markdown",
   "metadata": {},
   "source": [
    "### Question - 7\n",
    "Given an encoded string, return its decoded string.\n",
    "\n",
    "The encoding rule is: k[encoded_string], where the encoded_string inside the square brackets is being repeated exactly k times. Note that k is guaranteed to be a positive integer.\n",
    "\n",
    "You may assume that the input string is always valid; there are no extra white spaces, square brackets are well-formed, etc. Furthermore, you may assume that the original data does not contain any digits and that digits are only for those repeat numbers, k. For example, there will not be input like 3a or 2[4].\n",
    "\n",
    "The test cases are generated so that the length of the output will never exceed 105.\n",
    "\n",
    "**Example 1:**\n",
    "\n",
    "**Input:** s = \"3[a]2[bc]\"\n",
    "\n",
    "**Output:** \"aaabcbc\""
   ]
  },
  {
   "cell_type": "code",
   "execution_count": 7,
   "metadata": {},
   "outputs": [
    {
     "name": "stdout",
     "output_type": "stream",
     "text": [
      "s : 3[a]2[bc]\n",
      "Output : aaabcbc\n"
     ]
    }
   ],
   "source": [
    "def decodeString(s):\n",
    "    stack = []\n",
    "    decoded = \"\"\n",
    "    num = 0\n",
    "\n",
    "    for char in s:\n",
    "        if char.isdigit():\n",
    "            num = num * 10 + int(char)\n",
    "        elif char == '[':\n",
    "            stack.append((decoded, num))\n",
    "            decoded = \"\"\n",
    "            num = 0\n",
    "        elif char == ']':\n",
    "            prev_decoded, repeat = stack.pop()\n",
    "            decoded = prev_decoded + decoded * repeat\n",
    "        else:\n",
    "            decoded += char\n",
    "\n",
    "    return decoded\n",
    "# DRIVER CODE\n",
    "s = \"3[a]2[bc]\"\n",
    "print(f\"s : {s}\")\n",
    "\n",
    "result = decodeString(s)\n",
    "print(f\"Output : {result}\")"
   ]
  },
  {
   "attachments": {},
   "cell_type": "markdown",
   "metadata": {},
   "source": [
    "### Question - 8\n",
    "Given two strings s and goal, return true *if you can swap two letters in* s *so the result is equal to* goal*, otherwise, return* false*.*\n",
    "\n",
    "Swapping letters is defined as taking two indices i and j (0-indexed) such that i != j and swapping the characters at s[i] and s[j].\n",
    "\n",
    "- For example, swapping at indices 0 and 2 in \"abcd\" results in \"cbad\".\n",
    "\n",
    "**Example 1:**\n",
    "\n",
    "**Input:** s = \"ab\", goal = \"ba\"\n",
    "\n",
    "**Output:** true\n",
    "\n",
    "**Explanation:** You can swap s[0] = 'a' and s[1] = 'b' to get \"ba\", which is equal to goal."
   ]
  },
  {
   "cell_type": "code",
   "execution_count": 8,
   "metadata": {},
   "outputs": [
    {
     "name": "stdout",
     "output_type": "stream",
     "text": [
      "s : ab\n",
      "goal : ba\n",
      "Output : True\n"
     ]
    }
   ],
   "source": [
    "def buddyStrings(s, goal):\n",
    "    if len(s) != len(goal):\n",
    "        return False\n",
    "\n",
    "    mismatch_indices = []\n",
    "    common_chars = []\n",
    "\n",
    "    for i in range(len(s)):\n",
    "        if s[i] != goal[i]:\n",
    "            mismatch_indices.append(i)\n",
    "        else:\n",
    "            common_chars.append(s[i])\n",
    "\n",
    "    if len(mismatch_indices) == 0:\n",
    "        return len(common_chars) < len(s)\n",
    "\n",
    "    if len(mismatch_indices) != 2:\n",
    "        return False\n",
    "\n",
    "    i, j = mismatch_indices\n",
    "    return s[i] == goal[j] and s[j] == goal[i]\n",
    "\n",
    "# DRIVER CODE\n",
    "s = \"ab\"\n",
    "goal = \"ba\"\n",
    "\n",
    "print(f\"s : {s}\")\n",
    "print(f\"goal : {goal}\")\n",
    "\n",
    "result = buddyStrings(s, goal)\n",
    "print(f\"Output : {result}\")"
   ]
  }
 ],
 "metadata": {
  "kernelspec": {
   "display_name": "Python 3",
   "language": "python",
   "name": "python3"
  },
  "language_info": {
   "codemirror_mode": {
    "name": "ipython",
    "version": 3
   },
   "file_extension": ".py",
   "mimetype": "text/x-python",
   "name": "python",
   "nbconvert_exporter": "python",
   "pygments_lexer": "ipython3",
   "version": "3.10.2"
  },
  "orig_nbformat": 4
 },
 "nbformat": 4,
 "nbformat_minor": 2
}
