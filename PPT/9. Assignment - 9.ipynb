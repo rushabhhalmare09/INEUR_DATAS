{
 "cells": [
  {
   "attachments": {},
   "cell_type": "markdown",
   "metadata": {},
   "source": [
    "### Question - 1\n",
    "\n",
    "Given an integer `n`, return *`true` if it is a power of two. Otherwise, return `false`*.\n",
    "\n",
    "An integer `n` is a power of two, if there exists an integer `x` such that `n == 2x`.\n",
    "\n",
    "**Example 1:**\n",
    "Input: n = 1 \n",
    "\n",
    "Output: true\n",
    "\n",
    "**Example 2:**\n",
    "Input: n = 16 \n",
    "\n",
    "Output: true\n",
    "\n",
    "**Example 3:**\n",
    "Input: n = 3 \n",
    "\n",
    "Output: false\n"
   ]
  },
  {
   "cell_type": "code",
   "execution_count": 7,
   "metadata": {},
   "outputs": [
    {
     "name": "stdout",
     "output_type": "stream",
     "text": [
      "Input n :1\n",
      "Output : True\n",
      "Input n :16\n",
      "Output : True\n",
      "Input n :3\n",
      "Output : False\n"
     ]
    }
   ],
   "source": [
    "def is_power_of_two(n):\n",
    "    if n <= 0:\n",
    "        return False\n",
    "    return n & (n - 1) == 0\n",
    "\n",
    "for i in range(3):\n",
    "    n = int(input(\"Enter a number\"))\n",
    "    print(\"Input n :{}\".format(n))\n",
    "    res = is_power_of_two(n)\n",
    "    print(\"Output : {}\".format(res)) \n",
    "\n"
   ]
  },
  {
   "attachments": {},
   "cell_type": "markdown",
   "metadata": {},
   "source": [
    "### Question - 2\n",
    "<aside>\n",
    "Given a number n, find the sum of the first natural numbers.\n",
    "\n",
    "**Example 1:**\n",
    "\n",
    "Input: n = 3 \n",
    "\n",
    "Output: 6\n",
    "\n",
    "**Example 2:**\n",
    "\n",
    "Input  : 5 \n",
    "\n",
    "Output : 15\n",
    "\n",
    "</aside>"
   ]
  },
  {
   "cell_type": "code",
   "execution_count": 10,
   "metadata": {},
   "outputs": [
    {
     "name": "stdout",
     "output_type": "stream",
     "text": [
      "Input n : 3\n",
      "Output : 6\n",
      "Input n : 5\n",
      "Output : 15\n"
     ]
    }
   ],
   "source": [
    "def sum_of_natural_numbers(n):\n",
    "    return (n * (n + 1)) // 2\n",
    "\n",
    "for i in range(2):\n",
    "    n = int(input(\"Enter a number\"))\n",
    "    print(\"Input n : {}\".format(n))\n",
    "    res = sum_of_natural_numbers(n)\n",
    "    print(\"Output : {}\".format(res)) "
   ]
  },
  {
   "attachments": {},
   "cell_type": "markdown",
   "metadata": {},
   "source": [
    "### Question - 3\n",
    "Given a positive integer, N. Find the factorial of N. \n",
    "\n",
    "**Example 1:**\n",
    "\n",
    "Input: N = 5 \n",
    "\n",
    "Output: 120\n",
    "\n",
    "**Example 2:**\n",
    "\n",
    "Input: N = 4\n",
    "\n",
    "Output: 24"
   ]
  },
  {
   "cell_type": "code",
   "execution_count": 11,
   "metadata": {},
   "outputs": [
    {
     "name": "stdout",
     "output_type": "stream",
     "text": [
      "Input n : 5\n",
      "Output : 120\n",
      "Input n : 4\n",
      "Output : 24\n"
     ]
    }
   ],
   "source": [
    "def factorial(N):\n",
    "    factorial = 1\n",
    "    for i in range(1, N + 1):\n",
    "        factorial *= i\n",
    "    return factorial\n",
    "\n",
    "\n",
    "for i in range(2):\n",
    "    n = int(input(\"Enter a number\"))\n",
    "    print(\"Input n : {}\".format(n))\n",
    "    res = factorial(n)\n",
    "    print(\"Output : {}\".format(res)) \n"
   ]
  },
  {
   "attachments": {},
   "cell_type": "markdown",
   "metadata": {},
   "source": [
    "### Question - 4\n",
    "Given a number N and a power P, the task is to find the exponent of this number raised to the given power, i.e. N^P.\n",
    "\n",
    "**Example 1 :** \n",
    "\n",
    "Input: N = 5, P = 2\n",
    "\n",
    "Output: 25\n",
    "\n",
    "**Example 2 :**\n",
    "Input: N = 2, P = 5\n",
    "\n",
    "Output: 32"
   ]
  },
  {
   "cell_type": "code",
   "execution_count": 14,
   "metadata": {},
   "outputs": [
    {
     "name": "stdout",
     "output_type": "stream",
     "text": [
      "Input :- N : 5, P : 2\n",
      "Output : 25\n",
      "Input :- N : 2, P : 5\n",
      "Output : 32\n"
     ]
    }
   ],
   "source": [
    "def exponent(N, P):\n",
    "    return N ** P\n",
    "\n",
    "for i in range(2):\n",
    "    N = int(input(\"Enter a number\"))\n",
    "    P = int(input(\"Enter a number\"))\n",
    "    print(\"Input :- N : {}, P : {}\".format(N, P))\n",
    "    res = exponent(N, P)\n",
    "    print(\"Output : {}\".format(res)) "
   ]
  },
  {
   "attachments": {},
   "cell_type": "markdown",
   "metadata": {},
   "source": [
    "### Question - 5\n",
    "Given an array of integers **arr**, the task is to find maximum element of that array using recursion.\n",
    "\n",
    "**Example 1:**\n",
    "\n",
    "Input: arr = {1, 4, 3, -5, -4, 8, 6};\n",
    "Output: 8\n",
    "\n",
    "**Example 2:**\n",
    "\n",
    "Input: arr = {1, 4, 45, 6, 10, -8};\n",
    "Output: 45"
   ]
  },
  {
   "cell_type": "code",
   "execution_count": 17,
   "metadata": {},
   "outputs": [
    {
     "name": "stdout",
     "output_type": "stream",
     "text": [
      "Input : arr1 : [1, 4, 3, -5, -4, 8, 6]\n",
      "Output : 8\n",
      "Input : arr2 : [1, 4, 45, 6, 10, -8]\n",
      "Output : 45\n"
     ]
    }
   ],
   "source": [
    "def find_max(arr, left, right):\n",
    "    if left == right:\n",
    "        return arr[left]\n",
    "    mid = (left + right) // 2\n",
    "    max_left = find_max(arr, left, mid)\n",
    "    max_right = find_max(arr, mid + 1, right)\n",
    "    return max(max_left, max_right)\n",
    "\n",
    "\n",
    "def find_maximum(arr):\n",
    "    if not arr:\n",
    "        return None\n",
    "    return find_max(arr, 0, len(arr) - 1)\n",
    "\n",
    "arr1 = [1, 4, 3, -5, -4, 8, 6]\n",
    "print(\"Input : arr1 : {}\".format(arr1))\n",
    "\n",
    "res = find_maximum(arr1)\n",
    "print(\"Output : {}\".format(res))\n",
    "\n",
    "\n",
    "arr2 = [1, 4, 45, 6, 10, -8]\n",
    "print(\"Input : arr2 : {}\".format(arr2))\n",
    "\n",
    "res1 = find_maximum(arr2)\n",
    "print(\"Output : {}\".format(res1))\n",
    "\n",
    "\n"
   ]
  },
  {
   "attachments": {},
   "cell_type": "markdown",
   "metadata": {},
   "source": [
    "### Question - 6\n",
    "Given first term (a), common difference (d) and a integer N of the Arithmetic Progression series, the task is to find Nth term of the series.\n",
    "\n",
    "**Example 1:**\n",
    "\n",
    "Input : a = 2 d = 1 N = 5\n",
    "Output : 6\n",
    "The 5th term of the series is : 6\n",
    "\n",
    "**Example 2:**\n",
    "\n",
    "Input : a = 5 d = 2 N = 10\n",
    "Output : 23\n",
    "The 10th term of the series is : 23"
   ]
  },
  {
   "cell_type": "code",
   "execution_count": 18,
   "metadata": {},
   "outputs": [
    {
     "name": "stdout",
     "output_type": "stream",
     "text": [
      "Input :- a : 2, d : 1, N : 5\n",
      "Output : 6\n",
      "Input :- a : 5, d : 2, N : 10\n",
      "Output : 23\n"
     ]
    }
   ],
   "source": [
    "def nth_term_of_ap(a, d, N):\n",
    "    nth_term = a + (N - 1) * d\n",
    "    return nth_term\n",
    "\n",
    "for i in range(2):\n",
    "    a = int(input(\"Enter a number\"))\n",
    "    d = int(input(\"Enter a number\"))\n",
    "    N = int(input(\"Enter a number\"))\n",
    "    print(\"Input :- a : {}, d : {}, N : {}\".format(a, d, N))\n",
    "    res = nth_term_of_ap(a, d, N)\n",
    "    print(\"Output : {}\".format(res)) \n",
    "\n"
   ]
  },
  {
   "attachments": {},
   "cell_type": "markdown",
   "metadata": {},
   "source": [
    "### Question - 7\n",
    "Given a string S, the task is to write a program to print all permutations of a given string.\n",
    "\n",
    "**Example 1:**\n",
    "\n",
    "***Input:***\n",
    "\n",
    "*S = “ABC”*\n",
    "\n",
    "***Output:***\n",
    "\n",
    "*“ABC”, “ACB”, “BAC”, “BCA”, “CBA”, “CAB”*\n",
    "\n",
    "**Example 2:**\n",
    "\n",
    "***Input:***\n",
    "\n",
    "*S = “XY”*\n",
    "\n",
    "***Output:***\n",
    "\n",
    "*“XY”, “YX”*"
   ]
  },
  {
   "cell_type": "code",
   "execution_count": 43,
   "metadata": {},
   "outputs": [
    {
     "name": "stdout",
     "output_type": "stream",
     "text": [
      "Input S : ABC\n",
      "Output : \n",
      "ABC ACB BAC BCA CBA CAB \n",
      "Input S : XY\n",
      "Output : \n",
      "XY YX "
     ]
    }
   ],
   "source": [
    "def generate_permutations(S, start, permutations):\n",
    "    if start == len(S):\n",
    "        permutations.append(S)\n",
    "        return\n",
    "\n",
    "    for i in range(start, len(S)):\n",
    "        S_list = list(S)\n",
    "        S_list[start], S_list[i] = S_list[i], S_list[start]\n",
    "        new_string = ''.join(S_list)\n",
    "        generate_permutations(new_string, start + 1, permutations)\n",
    "        S_list[start], S_list[i] = S_list[i], S_list[start]\n",
    "\n",
    "def print_permutations(S):\n",
    "    permutations = []\n",
    "    generate_permutations(S, 0, permutations)\n",
    "    for permutation in permutations:\n",
    "        print(permutation, end = \" \")\n",
    "\n",
    "S1 = \"ABC\"\n",
    "print(f\"Input S : {S1}\")\n",
    "\n",
    "print(\"Output : \")\n",
    "print_permutations(S1)\n",
    "print()\n",
    "\n",
    "\n",
    "S2 = \"XY\"\n",
    "print(f\"Input S : {S2}\")\n",
    "\n",
    "print(\"Output : \")\n",
    "print_permutations(S2)\n"
   ]
  },
  {
   "attachments": {},
   "cell_type": "markdown",
   "metadata": {},
   "source": [
    "### Question - 8\n",
    "Given an array, find a product of all array elements.\n",
    "\n",
    "**Example 1:**\n",
    "\n",
    "Input  : arr[] = {1, 2, 3, 4, 5}\n",
    "Output : 120\n",
    "\n",
    "**Example 2:**\n",
    "\n",
    "Input  : arr[] = {1, 6, 3}\n",
    "Output : 18"
   ]
  },
  {
   "cell_type": "code",
   "execution_count": 47,
   "metadata": {},
   "outputs": [
    {
     "name": "stdout",
     "output_type": "stream",
     "text": [
      "Input : arr1 : [1, 2, 3, 4, 5]\n",
      "Output : 120\n",
      "Input : arr2 : [1, 6, 3]\n",
      "Output : 18\n"
     ]
    }
   ],
   "source": [
    "def array_product(arr):\n",
    "    product = 1\n",
    "    for num in arr:\n",
    "        product *= num\n",
    "    return product\n",
    "arr1 = [1, 2, 3, 4, 5]\n",
    "print(f\"Input : arr1 : {arr1}\")\n",
    "res1 = array_product(arr1)\n",
    "print(f\"Output : {res1}\")\n",
    "\n",
    "arr2 = [1, 6, 3]\n",
    "print(f\"Input : arr2 : {arr2}\")\n",
    "\n",
    "res2 = array_product(arr2)\n",
    "print(f\"Output : {res2}\")"
   ]
  }
 ],
 "metadata": {
  "kernelspec": {
   "display_name": "Python 3",
   "language": "python",
   "name": "python3"
  },
  "language_info": {
   "codemirror_mode": {
    "name": "ipython",
    "version": 3
   },
   "file_extension": ".py",
   "mimetype": "text/x-python",
   "name": "python",
   "nbconvert_exporter": "python",
   "pygments_lexer": "ipython3",
   "version": "3.10.2"
  },
  "orig_nbformat": 4
 },
 "nbformat": 4,
 "nbformat_minor": 2
}
